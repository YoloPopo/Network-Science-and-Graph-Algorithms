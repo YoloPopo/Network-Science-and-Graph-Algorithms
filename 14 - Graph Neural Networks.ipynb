{
  "cells": [
    {
      "cell_type": "markdown",
      "id": "dbb6ddd8",
      "metadata": {
        "id": "dbb6ddd8"
      },
      "source": [
        "# Graph Neural Networks"
      ]
    },
    {
      "cell_type": "code",
      "execution_count": 63,
      "id": "5ac9bb80",
      "metadata": {
        "id": "5ac9bb80"
      },
      "outputs": [],
      "source": [
        "import torch\n",
        "from sklearn.metrics import balanced_accuracy_score\n",
        "import torch.nn as nn\n",
        "from tqdm.notebook import trange\n",
        "from sklearn.manifold import TSNE\n",
        "from torch.optim import Adam\n",
        "import numpy as np\n",
        "import matplotlib.pyplot as plt\n",
        "import torch.nn.functional as F\n",
        "from sklearn.linear_model import LogisticRegression"
      ]
    },
    {
      "cell_type": "markdown",
      "id": "bc204875",
      "metadata": {
        "id": "bc204875"
      },
      "source": [
        "### CORA dataset"
      ]
    },
    {
      "cell_type": "code",
      "execution_count": 64,
      "id": "8217ac0c",
      "metadata": {
        "colab": {
          "base_uri": "https://localhost:8080/"
        },
        "id": "8217ac0c",
        "outputId": "086beac2-df18-4610-a58b-cc93337dfddb"
      },
      "outputs": [
        {
          "name": "stdout",
          "output_type": "stream",
          "text": [
            "Looking in links: https://data.dgl.ai/wheels/torch-2.4/repo.html\n",
            "Requirement already satisfied: dgl in /usr/local/lib/python3.11/dist-packages (2.4.0)\n",
            "Requirement already satisfied: networkx>=2.1 in /usr/local/lib/python3.11/dist-packages (from dgl) (3.4.2)\n",
            "Requirement already satisfied: numpy>=1.14.0 in /usr/local/lib/python3.11/dist-packages (from dgl) (2.0.2)\n",
            "Requirement already satisfied: packaging in /usr/local/lib/python3.11/dist-packages (from dgl) (24.2)\n",
            "Requirement already satisfied: pandas in /usr/local/lib/python3.11/dist-packages (from dgl) (2.2.2)\n",
            "Requirement already satisfied: psutil>=5.8.0 in /usr/local/lib/python3.11/dist-packages (from dgl) (5.9.5)\n",
            "Requirement already satisfied: pydantic>=2.0 in /usr/local/lib/python3.11/dist-packages (from dgl) (2.11.4)\n",
            "Requirement already satisfied: pyyaml in /usr/local/lib/python3.11/dist-packages (from dgl) (6.0.2)\n",
            "Requirement already satisfied: requests>=2.19.0 in /usr/local/lib/python3.11/dist-packages (from dgl) (2.32.3)\n",
            "Requirement already satisfied: scipy>=1.1.0 in /usr/local/lib/python3.11/dist-packages (from dgl) (1.15.3)\n",
            "Requirement already satisfied: tqdm in /usr/local/lib/python3.11/dist-packages (from dgl) (4.67.1)\n",
            "Requirement already satisfied: torch<=2.4.0 in /usr/local/lib/python3.11/dist-packages (from dgl) (2.4.0)\n",
            "Requirement already satisfied: annotated-types>=0.6.0 in /usr/local/lib/python3.11/dist-packages (from pydantic>=2.0->dgl) (0.7.0)\n",
            "Requirement already satisfied: pydantic-core==2.33.2 in /usr/local/lib/python3.11/dist-packages (from pydantic>=2.0->dgl) (2.33.2)\n",
            "Requirement already satisfied: typing-extensions>=4.12.2 in /usr/local/lib/python3.11/dist-packages (from pydantic>=2.0->dgl) (4.13.2)\n",
            "Requirement already satisfied: typing-inspection>=0.4.0 in /usr/local/lib/python3.11/dist-packages (from pydantic>=2.0->dgl) (0.4.0)\n",
            "Requirement already satisfied: charset-normalizer<4,>=2 in /usr/local/lib/python3.11/dist-packages (from requests>=2.19.0->dgl) (3.4.2)\n",
            "Requirement already satisfied: idna<4,>=2.5 in /usr/local/lib/python3.11/dist-packages (from requests>=2.19.0->dgl) (3.10)\n",
            "Requirement already satisfied: urllib3<3,>=1.21.1 in /usr/local/lib/python3.11/dist-packages (from requests>=2.19.0->dgl) (2.4.0)\n",
            "Requirement already satisfied: certifi>=2017.4.17 in /usr/local/lib/python3.11/dist-packages (from requests>=2.19.0->dgl) (2025.4.26)\n",
            "Requirement already satisfied: filelock in /usr/local/lib/python3.11/dist-packages (from torch<=2.4.0->dgl) (3.18.0)\n",
            "Requirement already satisfied: sympy in /usr/local/lib/python3.11/dist-packages (from torch<=2.4.0->dgl) (1.13.1)\n",
            "Requirement already satisfied: jinja2 in /usr/local/lib/python3.11/dist-packages (from torch<=2.4.0->dgl) (3.1.6)\n",
            "Requirement already satisfied: fsspec in /usr/local/lib/python3.11/dist-packages (from torch<=2.4.0->dgl) (2025.3.2)\n",
            "Requirement already satisfied: nvidia-cuda-nvrtc-cu12==12.1.105 in /usr/local/lib/python3.11/dist-packages (from torch<=2.4.0->dgl) (12.1.105)\n",
            "Requirement already satisfied: nvidia-cuda-runtime-cu12==12.1.105 in /usr/local/lib/python3.11/dist-packages (from torch<=2.4.0->dgl) (12.1.105)\n",
            "Requirement already satisfied: nvidia-cuda-cupti-cu12==12.1.105 in /usr/local/lib/python3.11/dist-packages (from torch<=2.4.0->dgl) (12.1.105)\n",
            "Requirement already satisfied: nvidia-cudnn-cu12==9.1.0.70 in /usr/local/lib/python3.11/dist-packages (from torch<=2.4.0->dgl) (9.1.0.70)\n",
            "Requirement already satisfied: nvidia-cublas-cu12==12.1.3.1 in /usr/local/lib/python3.11/dist-packages (from torch<=2.4.0->dgl) (12.1.3.1)\n",
            "Requirement already satisfied: nvidia-cufft-cu12==11.0.2.54 in /usr/local/lib/python3.11/dist-packages (from torch<=2.4.0->dgl) (11.0.2.54)\n",
            "Requirement already satisfied: nvidia-curand-cu12==10.3.2.106 in /usr/local/lib/python3.11/dist-packages (from torch<=2.4.0->dgl) (10.3.2.106)\n",
            "Requirement already satisfied: nvidia-cusolver-cu12==11.4.5.107 in /usr/local/lib/python3.11/dist-packages (from torch<=2.4.0->dgl) (11.4.5.107)\n",
            "Requirement already satisfied: nvidia-cusparse-cu12==12.1.0.106 in /usr/local/lib/python3.11/dist-packages (from torch<=2.4.0->dgl) (12.1.0.106)\n",
            "Requirement already satisfied: nvidia-nccl-cu12==2.20.5 in /usr/local/lib/python3.11/dist-packages (from torch<=2.4.0->dgl) (2.20.5)\n",
            "Requirement already satisfied: nvidia-nvtx-cu12==12.1.105 in /usr/local/lib/python3.11/dist-packages (from torch<=2.4.0->dgl) (12.1.105)\n",
            "Requirement already satisfied: triton==3.0.0 in /usr/local/lib/python3.11/dist-packages (from torch<=2.4.0->dgl) (3.0.0)\n",
            "Requirement already satisfied: nvidia-nvjitlink-cu12 in /usr/local/lib/python3.11/dist-packages (from nvidia-cusolver-cu12==11.4.5.107->torch<=2.4.0->dgl) (12.5.82)\n",
            "Requirement already satisfied: python-dateutil>=2.8.2 in /usr/local/lib/python3.11/dist-packages (from pandas->dgl) (2.9.0.post0)\n",
            "Requirement already satisfied: pytz>=2020.1 in /usr/local/lib/python3.11/dist-packages (from pandas->dgl) (2025.2)\n",
            "Requirement already satisfied: tzdata>=2022.7 in /usr/local/lib/python3.11/dist-packages (from pandas->dgl) (2025.2)\n",
            "Requirement already satisfied: six>=1.5 in /usr/local/lib/python3.11/dist-packages (from python-dateutil>=2.8.2->pandas->dgl) (1.17.0)\n",
            "Requirement already satisfied: MarkupSafe>=2.0 in /usr/local/lib/python3.11/dist-packages (from jinja2->torch<=2.4.0->dgl) (3.0.2)\n",
            "Requirement already satisfied: mpmath<1.4,>=1.1.0 in /usr/local/lib/python3.11/dist-packages (from sympy->torch<=2.4.0->dgl) (1.3.0)\n"
          ]
        }
      ],
      "source": [
        "#For Colab (torch 2.5)\n",
        "!pip install  dgl -f https://data.dgl.ai/wheels/torch-2.4/repo.html"
      ]
    },
    {
      "cell_type": "code",
      "execution_count": 65,
      "id": "97f7e59c",
      "metadata": {
        "id": "97f7e59c"
      },
      "outputs": [],
      "source": [
        "import dgl\n",
        "from dgl.data import CoraGraphDataset\n",
        "from dgl import function as fn\n",
        "from dgl.nn import SAGEConv"
      ]
    },
    {
      "cell_type": "code",
      "execution_count": 66,
      "id": "b9a52628",
      "metadata": {
        "id": "b9a52628"
      },
      "outputs": [],
      "source": [
        "import warnings\n",
        "warnings.filterwarnings(action='ignore', category=UserWarning)\n",
        "warnings.simplefilter(action='ignore', category=FutureWarning)"
      ]
    },
    {
      "cell_type": "markdown",
      "id": "6f992762",
      "metadata": {
        "id": "6f992762"
      },
      "source": [
        "The Cora dataset consists of 2708 scientific publications classified into one of seven classes. The citation network consists of 10556/2 links. Let us take a closer look at this dataset. Each publication in the dataset is described by a 0/1-valued word vector indicating the absence/presence of the corresponding word from the dictionary. The dictionary consists of 1433 unique words."
      ]
    },
    {
      "cell_type": "code",
      "execution_count": 67,
      "id": "3876dd0c",
      "metadata": {
        "colab": {
          "base_uri": "https://localhost:8080/"
        },
        "id": "3876dd0c",
        "outputId": "d5b711fa-0e36-48e7-caf7-83bf500b6f44"
      },
      "outputs": [
        {
          "name": "stdout",
          "output_type": "stream",
          "text": [
            "Finished data loading and preprocessing.\n",
            "  NumNodes: 2708\n",
            "  NumEdges: 10556\n",
            "  NumFeats: 1433\n",
            "  NumClasses: 7\n",
            "  NumTrainingSamples: 140\n",
            "  NumValidationSamples: 500\n",
            "  NumTestSamples: 1000\n",
            "Done saving data into cached files.\n"
          ]
        }
      ],
      "source": [
        "data = CoraGraphDataset(force_reload=True)"
      ]
    },
    {
      "cell_type": "code",
      "execution_count": 68,
      "id": "60459d90",
      "metadata": {
        "colab": {
          "base_uri": "https://localhost:8080/"
        },
        "id": "60459d90",
        "outputId": "f29e7f91-7ae2-442e-8554-59484cc241d3"
      },
      "outputs": [
        {
          "data": {
            "text/plain": [
              "Graph(num_nodes=2708, num_edges=10556,\n",
              "      ndata_schemes={'train_mask': Scheme(shape=(), dtype=torch.bool), 'val_mask': Scheme(shape=(), dtype=torch.bool), 'test_mask': Scheme(shape=(), dtype=torch.bool), 'label': Scheme(shape=(), dtype=torch.int64), 'feat': Scheme(shape=(1433,), dtype=torch.float32)}\n",
              "      edata_schemes={})"
            ]
          },
          "execution_count": 68,
          "metadata": {},
          "output_type": "execute_result"
        }
      ],
      "source": [
        "graph = data[0]\n",
        "graph"
      ]
    },
    {
      "cell_type": "markdown",
      "id": "8e97b108",
      "metadata": {
        "id": "8e97b108"
      },
      "source": [
        "Adjacency matrix can be obtained as follows"
      ]
    },
    {
      "cell_type": "code",
      "execution_count": 69,
      "id": "2cc92084",
      "metadata": {
        "colab": {
          "base_uri": "https://localhost:8080/"
        },
        "id": "2cc92084",
        "outputId": "55238968-58bf-48b8-efc1-0c0d72290327"
      },
      "outputs": [
        {
          "data": {
            "text/plain": [
              "tensor([[0., 0., 0.,  ..., 0., 0., 0.],\n",
              "        [0., 0., 1.,  ..., 0., 0., 0.],\n",
              "        [0., 1., 0.,  ..., 0., 0., 0.],\n",
              "        ...,\n",
              "        [0., 0., 0.,  ..., 0., 0., 0.],\n",
              "        [0., 0., 0.,  ..., 0., 0., 1.],\n",
              "        [0., 0., 0.,  ..., 0., 1., 0.]])"
            ]
          },
          "execution_count": 69,
          "metadata": {},
          "output_type": "execute_result"
        }
      ],
      "source": [
        "adj = graph.adj().to_dense()\n",
        "adj"
      ]
    },
    {
      "cell_type": "markdown",
      "id": "613d60e2",
      "metadata": {
        "id": "613d60e2"
      },
      "source": [
        "Feature matrix is stored in node features `feat`."
      ]
    },
    {
      "cell_type": "code",
      "execution_count": 70,
      "id": "ffe904f8",
      "metadata": {
        "colab": {
          "base_uri": "https://localhost:8080/"
        },
        "id": "ffe904f8",
        "outputId": "c50d9bc4-c52a-4ceb-edd6-0fa4a193be05"
      },
      "outputs": [
        {
          "name": "stdout",
          "output_type": "stream",
          "text": [
            "torch.Size([2708, 1433])\n"
          ]
        },
        {
          "data": {
            "text/plain": [
              "tensor([[0., 0., 0.,  ..., 0., 0., 0.],\n",
              "        [0., 0., 0.,  ..., 0., 0., 0.],\n",
              "        [0., 0., 0.,  ..., 0., 0., 0.],\n",
              "        ...,\n",
              "        [0., 0., 0.,  ..., 0., 0., 0.],\n",
              "        [0., 0., 0.,  ..., 0., 0., 0.],\n",
              "        [0., 0., 0.,  ..., 0., 0., 0.]])"
            ]
          },
          "execution_count": 70,
          "metadata": {},
          "output_type": "execute_result"
        }
      ],
      "source": [
        "feat = graph.ndata['feat']\n",
        "print(feat.shape)\n",
        "feat"
      ]
    },
    {
      "cell_type": "markdown",
      "id": "a22e2f36",
      "metadata": {
        "id": "a22e2f36"
      },
      "source": [
        "In DGL, Cora feature matrix are normalized so that the sum per row is 1. Labels are represent type of the publication, they are stored in `label`."
      ]
    },
    {
      "cell_type": "code",
      "execution_count": 71,
      "id": "9c85b87c",
      "metadata": {
        "colab": {
          "base_uri": "https://localhost:8080/"
        },
        "id": "9c85b87c",
        "outputId": "55953ba1-a7b7-4cfd-b7fe-82cea79f718a"
      },
      "outputs": [
        {
          "data": {
            "text/plain": [
              "tensor([3, 4, 4,  ..., 3, 3, 3])"
            ]
          },
          "execution_count": 71,
          "metadata": {},
          "output_type": "execute_result"
        }
      ],
      "source": [
        "label = graph.ndata['label']\n",
        "label"
      ]
    },
    {
      "cell_type": "markdown",
      "id": "8ffdf1c0",
      "metadata": {
        "id": "8ffdf1c0"
      },
      "source": [
        "Here are train, validation and test masks."
      ]
    },
    {
      "cell_type": "code",
      "execution_count": 72,
      "id": "a0cb7ad4",
      "metadata": {
        "colab": {
          "base_uri": "https://localhost:8080/"
        },
        "id": "a0cb7ad4",
        "outputId": "509c10cd-c3f7-4054-e94d-51d9c3c586ae"
      },
      "outputs": [
        {
          "data": {
            "text/plain": [
              "(tensor([False, False, False,  ..., False, False, False]),\n",
              " tensor([ True,  True,  True,  ..., False, False, False]),\n",
              " tensor([False, False, False,  ...,  True,  True,  True]))"
            ]
          },
          "execution_count": 72,
          "metadata": {},
          "output_type": "execute_result"
        }
      ],
      "source": [
        "train_mask = graph.ndata['train_mask']\n",
        "val_mask = graph.ndata['val_mask']\n",
        "test_mask = graph.ndata['test_mask']\n",
        "val_mask, train_mask, test_mask"
      ]
    },
    {
      "cell_type": "markdown",
      "id": "18597045",
      "metadata": {
        "id": "18597045"
      },
      "source": [
        "### 1. Graph convolution as matrix product"
      ]
    },
    {
      "cell_type": "markdown",
      "id": "ddc79913",
      "metadata": {
        "id": "ddc79913"
      },
      "source": [
        "Graph convolutional network (GCN) was proposed in [[1]](#references) and defined on an undirected graph as the following propagation rule:\n",
        "\n",
        "$$H^{(l)}=\\sigma\\left(\\tilde D^{-1 / 2} \\tilde A \\tilde D^{-1 / 2} H^{(l-1)} W^{(l)}\\right)$$\n",
        "\n",
        "where $\\tilde A = A + I_N$ is the adjacency matrix with added self-connections. $I_N$ is the identity matrix, $\\tilde D_{ii} = \\sum_j \\tilde A_{ij}$ is the degree matrix and $W^{(l)}$ is trainable matrix at the layer $l$. $\\sigma$ represents non-linear activation function such as ReLU. $H^{(l)}$ is the hidden states at the layer $l$ and $H^{(0)} = X$ is the initial feature matrix.\n",
        "\n",
        "Write a class `GCNMatrixProductLayer` that takes adjacency matrix, hidden states and returns the next hidden states before activation."
      ]
    },
    {
      "cell_type": "code",
      "execution_count": 73,
      "id": "7ff5b791",
      "metadata": {
        "deletable": false,
        "id": "7ff5b791",
        "nbgrader": {
          "cell_type": "code",
          "checksum": "a8e8bb1c6da30605ca8ba49a6c4ecfa9",
          "grade": false,
          "grade_id": "cell-b71f48a8f9c231a0",
          "locked": false,
          "schema_version": 3,
          "solution": true,
          "task": false
        }
      },
      "outputs": [],
      "source": [
        "class GCNMatrixProductLayer(nn.Module):\n",
        "    def __init__(self, in_dim, out_dim):\n",
        "        super().__init__()\n",
        "        self.dense = nn.Linear(in_dim, out_dim)\n",
        "\n",
        "    def forward(self, adj, h):\n",
        "        _adj = adj.clone()\n",
        "        # YOUR CODE HERE\n",
        "        _adj = _adj + torch.eye(_adj.shape[0])\n",
        "        D_ = torch.sum(_adj, dim=1) ** (-0.5)\n",
        "        return D_[:, None] * _adj * D_[None, :] @ self.dense(h)\n",
        "\n",
        "        #raise NotImplementedError()"
      ]
    },
    {
      "cell_type": "code",
      "execution_count": 74,
      "id": "904fa061",
      "metadata": {
        "deletable": false,
        "editable": false,
        "id": "904fa061",
        "nbgrader": {
          "cell_type": "code",
          "checksum": "508f28b0a571960c10b36bb656874b59",
          "grade": true,
          "grade_id": "cell-59516dd351a3b233",
          "locked": true,
          "points": 0,
          "schema_version": 3,
          "solution": false,
          "task": false
        }
      },
      "outputs": [],
      "source": [
        "layer = GCNMatrixProductLayer(in_dim=2708, out_dim=10)\n",
        "with torch.no_grad():\n",
        "    layer.dense.weight.fill_(0.1)\n",
        "    layer.dense.bias.fill_(0.1)\n",
        "    h = layer(adj, torch.eye(2708))\n",
        "assert round(h[0, 0].item(), 2) == 0.19"
      ]
    },
    {
      "cell_type": "markdown",
      "id": "1b041722",
      "metadata": {
        "id": "1b041722"
      },
      "source": [
        "Write a class `GCNMatrixProduct` that takes the adjacency matrix and feature matrix and performs two-layer convolution with intermediate ReLU activation. The class initialized by input, hidden and output dimensions."
      ]
    },
    {
      "cell_type": "code",
      "execution_count": 75,
      "id": "1c9ef4e4",
      "metadata": {
        "deletable": false,
        "id": "1c9ef4e4",
        "nbgrader": {
          "cell_type": "code",
          "checksum": "856ad1e1e46a477d61fb9ebbde928fa4",
          "grade": false,
          "grade_id": "cell-5cecc368828015e4",
          "locked": false,
          "schema_version": 3,
          "solution": true,
          "task": false
        }
      },
      "outputs": [],
      "source": [
        "class GCNMatrixProduct(nn.Module):\n",
        "    def __init__(self, in_dim, hid_dim, out_dim):\n",
        "        super().__init__()\n",
        "        # YOUR CODE HERE\n",
        "        #raise NotImplementedError()\n",
        "        self.gcn1 = GCNMatrixProductLayer(in_dim , hid_dim)\n",
        "        self.gcn2 = GCNMatrixProductLayer(hid_dim, out_dim)\n",
        "\n",
        "    def forward(self, adj, feat):\n",
        "        # YOUR CODE HERE\n",
        "        #raise NotImplementedError()\n",
        "        h = self.gcn1(adj, feat)\n",
        "        h = F.relu(h)\n",
        "        h = self.gcn2(adj, h)\n",
        "        return h"
      ]
    },
    {
      "cell_type": "code",
      "execution_count": 76,
      "id": "13b3e790",
      "metadata": {
        "deletable": false,
        "editable": false,
        "id": "13b3e790",
        "nbgrader": {
          "cell_type": "code",
          "checksum": "20891f674b1f17ad9b39e5e7323599cd",
          "grade": true,
          "grade_id": "cell-13a9aa3e489245ee",
          "locked": true,
          "points": 0,
          "schema_version": 3,
          "solution": false,
          "task": false
        }
      },
      "outputs": [],
      "source": [
        "model = GCNMatrixProduct(2708, 32, 7)\n",
        "logits = model(adj, torch.eye(2708))\n",
        "assert logits.shape == (2708, 7)\n",
        "assert logits.min() < 0"
      ]
    },
    {
      "cell_type": "markdown",
      "id": "217ab100",
      "metadata": {
        "id": "217ab100"
      },
      "source": [
        "Let us create the two-layer GCN for node classification task."
      ]
    },
    {
      "cell_type": "code",
      "execution_count": 77,
      "id": "a83c6c89",
      "metadata": {
        "id": "a83c6c89"
      },
      "outputs": [],
      "source": [
        "model = GCNMatrixProduct(1433, 32, 7)\n",
        "opt = torch.optim.Adam(model.parameters(), lr=0.01)\n",
        "log = []"
      ]
    },
    {
      "cell_type": "markdown",
      "id": "0569ff05",
      "metadata": {
        "id": "0569ff05"
      },
      "source": [
        "We train the model in semi-supervised setting: propagate information over the full graph, but optimize it by only train cross-entropy loss."
      ]
    },
    {
      "cell_type": "code",
      "execution_count": 78,
      "id": "e2e7d012",
      "metadata": {
        "colab": {
          "base_uri": "https://localhost:8080/",
          "height": 0,
          "referenced_widgets": [
            "1924dfd60f5c4159bb733823622a8c09",
            "0c548ed487dd4eacb02db4ef74664dfb",
            "a6f9c0bbdd7b44da9b8361c9a8147527",
            "6abfaecf5a044cb180f5704bb8697499",
            "b241573d39964d83843bde2c22324cc1",
            "4745ab5f81e949be9a0913e3bc2b1b0d",
            "1d8d5b7a970547cca24747a463176a17",
            "aa3877cac5d648aea7133df8ea74c993",
            "e8bfbb37c32345e2a4e99a9cad3ea4d3",
            "6eabfc22b5044bc5975cde4be81a5425",
            "b57a0b0ad41d419caa536378d822bcc0"
          ]
        },
        "id": "e2e7d012",
        "outputId": "a864f30b-09f1-43cc-a1a0-62eb7531b62d"
      },
      "outputs": [
        {
          "data": {
            "application/vnd.jupyter.widget-view+json": {
              "model_id": "1924dfd60f5c4159bb733823622a8c09",
              "version_major": 2,
              "version_minor": 0
            },
            "text/plain": [
              "  0%|          | 0/200 [00:00<?, ?it/s]"
            ]
          },
          "metadata": {},
          "output_type": "display_data"
        },
        {
          "data": {
            "image/png": "[encoded data removed]",
            "text/plain": [
              "<Figure size 640x480 with 1 Axes>"
            ]
          },
          "metadata": {},
          "output_type": "display_data"
        }
      ],
      "source": [
        "n_epochs = 200\n",
        "for i in trange(n_epochs):\n",
        "\n",
        "    logits = model(adj, feat)\n",
        "    train_loss = F.cross_entropy(logits[train_mask], label[train_mask])\n",
        "\n",
        "    opt.zero_grad()\n",
        "    train_loss.backward()\n",
        "    opt.step()\n",
        "\n",
        "    with torch.no_grad():\n",
        "        val_loss = F.cross_entropy(logits[val_mask], label[val_mask])\n",
        "\n",
        "    log.append([train_loss.item(), val_loss.item()])\n",
        "\n",
        "plt.plot(np.array(log))\n",
        "plt.title('Loss')\n",
        "plt.legend(['train', 'val'])\n",
        "plt.show()"
      ]
    },
    {
      "cell_type": "markdown",
      "id": "9e222fe4",
      "metadata": {
        "id": "9e222fe4"
      },
      "source": [
        "We evaluate the model by balanced accuracy that accounts for inbalanced classes."
      ]
    },
    {
      "cell_type": "code",
      "execution_count": 79,
      "id": "7945090a",
      "metadata": {
        "colab": {
          "base_uri": "https://localhost:8080/"
        },
        "deletable": false,
        "editable": false,
        "id": "7945090a",
        "nbgrader": {
          "cell_type": "code",
          "checksum": "b39b99f78ca3f8319ac2b523edc550a9",
          "grade": true,
          "grade_id": "cell-d77d156cd37bfe99",
          "locked": true,
          "points": 0,
          "schema_version": 3,
          "solution": false,
          "task": false
        },
        "outputId": "d85f5491-c82a-4b7e-a3b3-7ba93ef2b1cb"
      },
      "outputs": [
        {
          "name": "stdout",
          "output_type": "stream",
          "text": [
            "Balanced accuracy: 0.81\n"
          ]
        }
      ],
      "source": [
        "with torch.no_grad():\n",
        "    logits = model(adj, feat)\n",
        "y_pred = torch.argmax(logits[test_mask], 1)\n",
        "score = balanced_accuracy_score(label[test_mask], y_pred)\n",
        "assert score > 0.7\n",
        "print(f'Balanced accuracy: {score:.2f}')"
      ]
    },
    {
      "cell_type": "markdown",
      "id": "5d0b89e8",
      "metadata": {
        "id": "5d0b89e8"
      },
      "source": [
        "### 2. Graph convolution as message passing"
      ]
    },
    {
      "cell_type": "markdown",
      "id": "d23ffa87",
      "metadata": {
        "id": "d23ffa87"
      },
      "source": [
        "The original GCN is computationally expensive for large graphs since it requires to compute matrix product $\\tilde D^{-1 / 2} \\tilde A \\tilde D^{-1 / 2} H^{l}$, that costs $O(|V|^2)$. However, the information is propagated along edges, the number of which is linearly depends on the number of nodes in scale-free networks, that is $O(|V|)$. Message passing framework was proposed in [[2]](#references) to reduce computation costs by representing a graph neural network's layer as the composition of two functions:\n",
        "\n",
        "$$m_{ij}^l = \\text{Message}\\left(h_i^{l-1}, h_j^{l-1}\\right)$$\n",
        "$$h_i^l = \\text{Reduce}_{j \\in \\mathcal{N}_\\text{in}(i)}\\left(m_{ji}^l\\right)$$\n",
        "\n",
        "where $\\text{Message}(\\cdot)$ is the message function that applied on each edges in the graph and stores computed values (messages) on edges. $\\text{Reduce}_{j \\in \\mathcal{N}_\\text{in}(i)}(\\cdot)$ is the reduce (aka aggregation, reduction) function that applied on each node and aggregates messages from incoming links (mailboxes).\n",
        "\n",
        "<img src='https://raw.githubusercontent.com/netspractice/network-science/main/images/messpass.png' width=600>\n",
        "\n",
        "In particular, GCN can be represented as follows:\n",
        "\n",
        "$$h_i^l = \\sigma \\left(W^l \\sum_{j \\in \\mathcal{N}_\\text{in}(i)}\\frac{h_j^{l-1}}{\\sqrt{|\\mathcal{N}_\\text{in}(j)||\\mathcal{N}_\\text{in}(i)|}}\\right)$$\n",
        "\n",
        "where the message function\n",
        "\n",
        "$$m_{ji}^l = \\frac{W^l h_j^{l-1}}{\\sqrt{|\\mathcal{N}_\\text{in}(j)|}}$$\n",
        "\n",
        "is the transformed source node's hidden state normalized by the in-degree of the source node. The reduce function\n",
        "\n",
        "$$h_i^l = \\sigma \\left(\\frac{\\sum_{j \\in \\mathcal{N}_\\text{in}(i)} m_{ji}^l}{\\sqrt{|\\mathcal{N}_\\text{in}(i)|}}\\right)$$\n",
        "\n",
        "is the sum over all incoming neighbors' hidden states with in-degree normalization and subsequent activation $\\sigma$. Here we assume that the graph includes self-connections, that is a node is in its neighborhood. We also assume that the graph is equivalent to its undirected representation, that is $A = A^\\top$.\n",
        "\n",
        "In DGL, message passing is applied by `graph.update_all(message_func, reduce_func)` where `message_func` is defined on edges and `reduce_func` on nodes. DGL contains built-in message and reduce functions, but it is also possible to define your own functions. GCN can be implemented using following functions:\n",
        "* message function `fn.copy_u(u='h', out='m')` copies the source node feature `h` into the mailbox `m`\n",
        "* reduce function `fn.sum(msg='m', out='h')` sums messages from mailboxes `m` and save the result into the node feature `h`\n",
        "\n",
        "Write a class `GCNMessagePassingLayer` that takes a graph, hidden states and returns the next hidden states before activation.\n",
        "\n",
        "*Hints:*\n",
        "* _adding node features is similar to adding values to a dictionary: `graph.ndata['h'] = h`_\n",
        "* _in-degrees can be computed by `graph.in_degrees()`_\n",
        "\n",
        "*Remark: `graph.local_scope()` makes all operations isolated from the original graphs.*"
      ]
    },
    {
      "cell_type": "code",
      "execution_count": 80,
      "id": "f5984036",
      "metadata": {
        "deletable": false,
        "id": "f5984036",
        "nbgrader": {
          "cell_type": "code",
          "checksum": "b7285e6772f70805893fd9df8c98dd43",
          "grade": false,
          "grade_id": "cell-7e663cf5c1afa659",
          "locked": false,
          "schema_version": 3,
          "solution": true,
          "task": false
        }
      },
      "outputs": [],
      "source": [
        "class GCNMessagePassingLayer(nn.Module):\n",
        "    def __init__(self, in_dim, out_dim):\n",
        "        super().__init__()\n",
        "        self.dense = nn.Linear(in_dim, out_dim)\n",
        "    def forward(self, graph, h):\n",
        "        with graph.local_scope():\n",
        "            graph = graph.add_self_loop()\n",
        "            # YOUR CODE HERE\n",
        "            #raise NotImplementedError()\n",
        "            norm = graph.in_degrees() [:, None] ** (-0.5)\n",
        "            graph.ndata['h'] = self.dense(h) * norm\n",
        "\n",
        "            graph.update_all(fn.copy_u(u='h', out='m'),\n",
        "                             fn.sum(msg='m', out='h'))\n",
        "        return graph.ndata['h'] * norm"
      ]
    },
    {
      "cell_type": "code",
      "execution_count": 81,
      "id": "5d8f0c5f",
      "metadata": {
        "deletable": false,
        "editable": false,
        "id": "5d8f0c5f",
        "nbgrader": {
          "cell_type": "code",
          "checksum": "8073fd1f805718186c8fd3fd29de8351",
          "grade": true,
          "grade_id": "cell-b7b8314f51fe4d0f",
          "locked": true,
          "points": 0,
          "schema_version": 3,
          "solution": false,
          "task": false
        }
      },
      "outputs": [],
      "source": [
        "layer = GCNMessagePassingLayer(in_dim=2708, out_dim=10)\n",
        "with torch.no_grad():\n",
        "    layer.dense.weight.fill_(0.1)\n",
        "    layer.dense.bias.fill_(0.1)\n",
        "    h = layer(graph, torch.eye(2708))\n",
        "assert round(h[0, 0].item(), 2) == 0.19"
      ]
    },
    {
      "cell_type": "markdown",
      "id": "5fa85c8d",
      "metadata": {
        "id": "5fa85c8d"
      },
      "source": [
        "Write a class `GCNMessagePassing` that takes the graph and feature matrix and performs two-layer convolution with intermediate ReLU activation. The class initialized by input, hidden and output dimensions."
      ]
    },
    {
      "cell_type": "code",
      "execution_count": 82,
      "id": "c5391849",
      "metadata": {
        "deletable": false,
        "id": "c5391849",
        "nbgrader": {
          "cell_type": "code",
          "checksum": "648906ac3877307e03e5e86946e862da",
          "grade": false,
          "grade_id": "cell-0e8fb3b6e5858162",
          "locked": false,
          "schema_version": 3,
          "solution": true,
          "task": false
        }
      },
      "outputs": [],
      "source": [
        "class GCNMessagePassing(nn.Module):\n",
        "    def __init__(self, in_dim, hid_dim, out_dim):\n",
        "        super().__init__()\n",
        "        # YOUR CODE HERE\n",
        "        #raise NotImplementedError()\n",
        "        self.gcn1 = GCNMessagePassingLayer(in_dim , hid_dim)\n",
        "        self.gcn2 = GCNMessagePassingLayer(hid_dim, out_dim)\n",
        "    def forward(self, graph, feat):\n",
        "        # YOUR CODE HERE\n",
        "        #raise NotImplementedError()\n",
        "        h = self.gcn1(graph, feat)\n",
        "        h = F.relu(h)\n",
        "        h = self.gcn2(graph, h)\n",
        "        return h"
      ]
    },
    {
      "cell_type": "code",
      "execution_count": 83,
      "id": "f6c274e7",
      "metadata": {
        "deletable": false,
        "editable": false,
        "id": "f6c274e7",
        "nbgrader": {
          "cell_type": "code",
          "checksum": "39b9ccecacba09fdee61474dd14c580d",
          "grade": true,
          "grade_id": "cell-bbdfaaf84f5f19cf",
          "locked": true,
          "points": 0,
          "schema_version": 3,
          "solution": false,
          "task": false
        }
      },
      "outputs": [],
      "source": [
        "model = GCNMessagePassing(2708, 32, 7)\n",
        "logits = model(graph, torch.eye(2708))\n",
        "assert logits.shape == (2708, 7)\n",
        "assert logits.min() < 0"
      ]
    },
    {
      "cell_type": "code",
      "execution_count": 84,
      "id": "7b8332d3",
      "metadata": {
        "id": "7b8332d3"
      },
      "outputs": [],
      "source": [
        "model = GCNMessagePassing(in_dim=1433, hid_dim=32, out_dim=7)\n",
        "opt = Adam(model.parameters(), lr=0.01)\n",
        "log = []"
      ]
    },
    {
      "cell_type": "markdown",
      "id": "8712d82d",
      "metadata": {
        "id": "8712d82d"
      },
      "source": [
        "We train the model in semi-supervised setting: propagate information over the full graph, but optimize it by only train cross-entropy loss."
      ]
    },
    {
      "cell_type": "code",
      "execution_count": 85,
      "id": "628bc120",
      "metadata": {
        "colab": {
          "base_uri": "https://localhost:8080/",
          "height": 0,
          "referenced_widgets": [
            "bb4c65c38a834443b61d1ca8a452985b",
            "ad9e9275b1154cbcb9804414e09b1161",
            "e92e074a24244435acb13e51e2dba04b",
            "2f05d8fa081f427e9a17c28e5e45dd20",
            "3b90c1031d7d4d56802e3530fdf06f13",
            "52b5ae229f38458ba28a187558a42c80",
            "fbc8eaa9fd0e4911a5bfd6267d44d5df",
            "2323f99445af4692adaf3cc10445ee23",
            "ca30695068dc470f9dde0abd517cd0af",
            "c0d1925aafab433d97497917f4aca58d",
            "3dba912dbffe4c3fae318e15c7992405"
          ]
        },
        "id": "628bc120",
        "outputId": "237fc733-de29-46e0-dbc7-1662fa5da30b"
      },
      "outputs": [
        {
          "data": {
            "application/vnd.jupyter.widget-view+json": {
              "model_id": "bb4c65c38a834443b61d1ca8a452985b",
              "version_major": 2,
              "version_minor": 0
            },
            "text/plain": [
              "  0%|          | 0/200 [00:00<?, ?it/s]"
            ]
          },
          "metadata": {},
          "output_type": "display_data"
        },
        {
          "data": {
            "image/png": "[encoded data removed]",
            "text/plain": [
              "<Figure size 640x480 with 1 Axes>"
            ]
          },
          "metadata": {},
          "output_type": "display_data"
        }
      ],
      "source": [
        "n_epochs = 200\n",
        "for i in trange(n_epochs):\n",
        "\n",
        "    logits = model(graph, feat)\n",
        "    train_loss = F.cross_entropy(logits[train_mask], label[train_mask])\n",
        "\n",
        "    opt.zero_grad()\n",
        "    train_loss.backward()\n",
        "    opt.step()\n",
        "\n",
        "    with torch.no_grad():\n",
        "        val_loss = F.cross_entropy(logits[val_mask], label[val_mask])\n",
        "\n",
        "    log.append([train_loss.item(), val_loss.item()])\n",
        "\n",
        "plt.plot(np.array(log))\n",
        "plt.title('Loss')\n",
        "plt.legend(['train', 'val'])\n",
        "plt.show()"
      ]
    },
    {
      "cell_type": "code",
      "execution_count": 86,
      "id": "709249ab",
      "metadata": {
        "colab": {
          "base_uri": "https://localhost:8080/"
        },
        "deletable": false,
        "editable": false,
        "id": "709249ab",
        "nbgrader": {
          "cell_type": "code",
          "checksum": "d96adaccfb3d3494968ec7a788b7db10",
          "grade": true,
          "grade_id": "cell-5ec89b78a948cb61",
          "locked": true,
          "points": 0,
          "schema_version": 3,
          "solution": false,
          "task": false
        },
        "outputId": "81580715-ca44-490d-8f2f-3e3b558817cc"
      },
      "outputs": [
        {
          "name": "stdout",
          "output_type": "stream",
          "text": [
            "Balanced accuracy: 0.80\n"
          ]
        }
      ],
      "source": [
        "with torch.no_grad():\n",
        "    logits = model(graph, feat)\n",
        "y_pred = torch.argmax(logits[test_mask], 1)\n",
        "score = balanced_accuracy_score(label[test_mask], y_pred)\n",
        "assert score > 0.7\n",
        "print(f'Balanced accuracy: {score:.2f}')"
      ]
    },
    {
      "cell_type": "markdown",
      "id": "b0410b89",
      "metadata": {
        "id": "b0410b89"
      },
      "source": [
        "### 3. Graph auto-encoder"
      ]
    },
    {
      "cell_type": "markdown",
      "id": "53670340",
      "metadata": {
        "id": "53670340"
      },
      "source": [
        "Graph auto-encoder (GAE) was proposed in [[3]](#references) as a simple node embedding model that incorporates node features. The model is consists of two parts:\n",
        "* GCN node encoder $Z = \\text{GCN}(X, A)$ where $X$ is the feature matrix\n",
        "* Dot product decoder $\\hat A = \\sigma(ZZ^\\top)$ where $\\sigma$ is the sigmoid function\n",
        "\n",
        "Write a class `DotProductDecoder` that takes node embeddgins and returns dot product before activation."
      ]
    },
    {
      "cell_type": "code",
      "execution_count": 87,
      "id": "15c460db",
      "metadata": {
        "deletable": false,
        "id": "15c460db",
        "nbgrader": {
          "cell_type": "code",
          "checksum": "94fc1408b8ccdeccd59e8c5d6f6aa5c4",
          "grade": false,
          "grade_id": "cell-a67dd0513e743f58",
          "locked": false,
          "schema_version": 3,
          "solution": true,
          "task": false
        }
      },
      "outputs": [],
      "source": [
        "class DotProductDecoder(nn.Module):\n",
        "    def __init__(self):\n",
        "        super().__init__()\n",
        "    def forward(self, z):\n",
        "        return torch.matmul(z, z.t())"
      ]
    },
    {
      "cell_type": "code",
      "execution_count": 88,
      "id": "c730e093",
      "metadata": {
        "deletable": false,
        "editable": false,
        "id": "c730e093",
        "nbgrader": {
          "cell_type": "code",
          "checksum": "627e49028327bee50ff18660bc952fb5",
          "grade": true,
          "grade_id": "cell-4f9b59eac548798b",
          "locked": true,
          "points": 1,
          "schema_version": 3,
          "solution": false,
          "task": false
        }
      },
      "outputs": [],
      "source": [
        "decoder = DotProductDecoder()\n",
        "assert torch.all(decoder(torch.eye(2)[:, :1]) * 2 == torch.tensor([[2, 0], [0, 0]]))"
      ]
    },
    {
      "cell_type": "markdown",
      "id": "34fb8d87",
      "metadata": {
        "id": "34fb8d87"
      },
      "source": [
        "The GAE is trained to reconstruct the adjacency matrix, that is the decoder can be considered as the link prediction model. The reconstruction loss is the binary cross entropy between the adjacency matrix $A$ and reconstructed adjacency matrix $\\hat A$. To overcome the imbalance between positive and negative edges, the loss is computed with positive weights — the number of negative exaples divided by the number of positive examples, that is $(|V|^2 - E)/E$.\n",
        "\n",
        "Write a class `ReconstructionLoss` that takes reconstructed adjacency matrix and computes the binary cross entropy with positive weights `F.binary_cross_entropy_with_logits(label, target, pos_weights=...)`. The class is initialized by the adjacency matrix."
      ]
    },
    {
      "cell_type": "code",
      "execution_count": 89,
      "id": "38651b0b",
      "metadata": {
        "deletable": false,
        "id": "38651b0b",
        "nbgrader": {
          "cell_type": "code",
          "checksum": "e94ea2e39a78930a13843e844add7ee2",
          "grade": false,
          "grade_id": "cell-725f9456c5768b1e",
          "locked": false,
          "schema_version": 3,
          "solution": true,
          "task": false
        }
      },
      "outputs": [],
      "source": [
        "class ReconstructionLoss:\n",
        "    def __init__(self, adj):\n",
        "        self.adj = adj\n",
        "        num_nodes = adj.shape[0]\n",
        "        num_edges = adj.sum()\n",
        "        if num_edges == 0:\n",
        "            self.pos_weight = torch.tensor(1.0, device=adj.device)\n",
        "        else:\n",
        "            self.pos_weight = torch.tensor((num_nodes * num_nodes - num_edges) / num_edges, device=adj.device)\n",
        "        self.norm = num_nodes * num_nodes / float((num_nodes * num_nodes - num_edges) * 2)\n",
        "\n",
        "    def __call__(self, rec_adj):\n",
        "        return F.binary_cross_entropy_with_logits(rec_adj, self.adj, pos_weight=self.pos_weight)"
      ]
    },
    {
      "cell_type": "code",
      "execution_count": 90,
      "id": "575a9887",
      "metadata": {
        "deletable": false,
        "editable": false,
        "id": "575a9887",
        "nbgrader": {
          "cell_type": "code",
          "checksum": "6822debfb10e4c8eaffb38f83d7011bd",
          "grade": true,
          "grade_id": "cell-e6b239111250755e",
          "locked": true,
          "points": 1,
          "schema_version": 3,
          "solution": false,
          "task": false
        }
      },
      "outputs": [],
      "source": [
        "rec_loss = ReconstructionLoss(torch.eye(2))\n",
        "assert round(rec_loss(1 - torch.eye(2)).item(), 4) == 1.0032"
      ]
    },
    {
      "cell_type": "markdown",
      "id": "e9403b0b",
      "metadata": {
        "id": "e9403b0b"
      },
      "source": [
        "Here we initialize encoder, decoder, reconstruction loss and optimizer."
      ]
    },
    {
      "cell_type": "code",
      "execution_count": 91,
      "id": "0eb7900b",
      "metadata": {
        "id": "0eb7900b"
      },
      "outputs": [],
      "source": [
        "encoder = GCNMessagePassing(in_dim=1433, hid_dim=64, out_dim=32)\n",
        "decoder = DotProductDecoder()\n",
        "rec_loss = ReconstructionLoss(adj)\n",
        "opt = Adam(encoder.parameters(), lr=0.02)\n",
        "log = []"
      ]
    },
    {
      "cell_type": "markdown",
      "id": "6b5b5f88",
      "metadata": {
        "id": "6b5b5f88"
      },
      "source": [
        "Complete the training loop for GAE. Train the model in unsupervised setting: calculate the reconstruction loss over all edges."
      ]
    },
    {
      "cell_type": "code",
      "execution_count": 92,
      "id": "26457fa7",
      "metadata": {
        "colab": {
          "base_uri": "https://localhost:8080/",
          "height": 0,
          "referenced_widgets": [
            "bb2c3a8f1c5744489d2fc8ba8cb0f082",
            "a31b11d3bd7445c58b98544423eda9f4",
            "05877609cfd74820a5b29c9824996149",
            "0362a60cf82a472aa62b478b0a8455b6",
            "48a73d63b06648bf941e0447c7d601cd",
            "b6b730d191d64d8880b9552c407e7934",
            "9e1fa0db951f45d1985298b55e003968",
            "c9e99d0aae1540b7bbcd83f58f404a8e",
            "50afe748817f4023b968dcef138dd698",
            "f000b44745664155bbef36d07cf8605f",
            "899323d64ac14b4da5e7ba478f9ec9e2"
          ]
        },
        "deletable": false,
        "id": "26457fa7",
        "nbgrader": {
          "cell_type": "code",
          "checksum": "e25fc920277cbb62e8b52c82bd0732c0",
          "grade": false,
          "grade_id": "cell-f1fe4005cbb20b73",
          "locked": false,
          "schema_version": 3,
          "solution": true,
          "task": false
        },
        "outputId": "c09e4d4e-b510-4167-ba98-e3d64874a6af"
      },
      "outputs": [
        {
          "data": {
            "application/vnd.jupyter.widget-view+json": {
              "model_id": "bb2c3a8f1c5744489d2fc8ba8cb0f082",
              "version_major": 2,
              "version_minor": 0
            },
            "text/plain": [
              "  0%|          | 0/400 [00:00<?, ?it/s]"
            ]
          },
          "metadata": {},
          "output_type": "display_data"
        },
        {
          "data": {
            "image/png": "[encoded data removed]",
            "text/plain": [
              "<Figure size 640x480 with 1 Axes>"
            ]
          },
          "metadata": {},
          "output_type": "display_data"
        }
      ],
      "source": [
        "n_epochs = 400\n",
        "for i in trange(n_epochs):\n",
        "    encoder.train()\n",
        "\n",
        "    z = encoder(graph, feat)\n",
        "    rec_adj = decoder(z)\n",
        "    loss = rec_loss(rec_adj)\n",
        "\n",
        "    opt.zero_grad()\n",
        "    loss.backward()\n",
        "    opt.step()\n",
        "\n",
        "    log.append(loss.item())\n",
        "\n",
        "plt.plot(np.array(log))\n",
        "plt.title('Loss')\n",
        "plt.show()"
      ]
    },
    {
      "cell_type": "markdown",
      "id": "63152cb4",
      "metadata": {
        "id": "63152cb4"
      },
      "source": [
        "We evaluate GAE by obtaining node embeddings via GCN encoder and training the logistic regression for node classification task."
      ]
    },
    {
      "cell_type": "code",
      "execution_count": 93,
      "id": "8219af43",
      "metadata": {
        "colab": {
          "base_uri": "https://localhost:8080/"
        },
        "deletable": false,
        "editable": false,
        "id": "8219af43",
        "nbgrader": {
          "cell_type": "code",
          "checksum": "ef3b36a212c279031e8dd78a9afeae0e",
          "grade": true,
          "grade_id": "cell-85a3ec5453dd8fc2",
          "locked": true,
          "points": 1,
          "schema_version": 3,
          "solution": false,
          "task": false
        },
        "outputId": "e8014f00-90d8-4734-ab61-ee330e080cb2"
      },
      "outputs": [
        {
          "name": "stdout",
          "output_type": "stream",
          "text": [
            "Balanced accuracy: 0.75\n"
          ]
        }
      ],
      "source": [
        "with torch.no_grad():\n",
        "    X = encoder.forward(graph, feat).numpy()\n",
        "y = label.numpy()\n",
        "\n",
        "lr = LogisticRegression()\n",
        "lr.fit(X[train_mask], y[train_mask])\n",
        "\n",
        "y_true = y[test_mask]\n",
        "y_pred = lr.predict(X[test_mask])\n",
        "score = balanced_accuracy_score(y_true, y_pred)\n",
        "assert score >= 0.6\n",
        "print(f'Balanced accuracy: {score:.2f}')"
      ]
    },
    {
      "cell_type": "markdown",
      "id": "ba9a163e",
      "metadata": {
        "id": "ba9a163e"
      },
      "source": [
        "Let us visualize node embeddings via t-SNE."
      ]
    },
    {
      "cell_type": "code",
      "execution_count": 94,
      "id": "7bd996e0",
      "metadata": {
        "colab": {
          "base_uri": "https://localhost:8080/",
          "height": 0
        },
        "id": "7bd996e0",
        "outputId": "e7a0dabe-9770-4ff1-c518-cb80fcea7665"
      },
      "outputs": [
        {
          "data": {
            "image/png": "[encoded data removed]",
            "text/plain": [
              "<Figure size 800x800 with 1 Axes>"
            ]
          },
          "metadata": {},
          "output_type": "display_data"
        }
      ],
      "source": [
        "xy_emb = TSNE(n_components=2).fit_transform(X)\n",
        "plt.figure(figsize=(8, 8))\n",
        "plt.title('Node embeddings of graph auto-encoder')\n",
        "scatter = plt.scatter(xy_emb[:, 0], xy_emb[:, 1], c=label, s=10, cmap=plt.cm.Set2)"
      ]
    },
    {
      "cell_type": "markdown",
      "id": "46be1142",
      "metadata": {
        "id": "46be1142"
      },
      "source": [
        "Note that GAE is the simplest encoder-decoder graph model that can be extended to the variational graph auto-encoder (VGAE) [[3]](#references) and GraphVAE [[4]](#references)."
      ]
    },
    {
      "cell_type": "markdown",
      "id": "ad32f587",
      "metadata": {
        "id": "ad32f587"
      },
      "source": [
        "### 4. Graph attention network"
      ]
    },
    {
      "cell_type": "markdown",
      "id": "dda10446",
      "metadata": {
        "id": "dda10446"
      },
      "source": [
        "The graph attention network (GAT) was proposed in [[5]](#references). The idea behind GAT is based on the multi-head self-attention mechanism [[6]](#references). The graph attention layer is defined by message passing as follows:\n",
        "\n",
        "$$h_i^{l} = \\sum_{j \\in \\mathcal{N}(i)}\\alpha_{ij}^{l}W_\\text{node}^{l}h_j^{l-1}$$\n",
        "\n",
        "where $\\alpha_{ij}$ is the attention score defined on each edge:\n",
        "\n",
        "$$\\alpha_{ij}^{l} = \\text{Softmax}_i(e_{ij}^{l})$$\n",
        "\n",
        "where $e_{ij}^{l}$ is the edge hidden state obtained by the linear transformation of concatenatenated nodes' hidden states and subsequent LeakyReLU activation:\n",
        "\n",
        "$$e_{ij}^{l} = \\text{LeakyReLU}(W_\\text{edge}^l[W_\\text{node}^{l}h_i^{l-1}||W_\\text{node}^{l}h_j^{l-1}])$$\n",
        "\n",
        "where $[\\cdot||\\cdot]$ is concatenation. The multi-head self-attention is defined by different types of attention score (heads) $(\\alpha_{ij}^{l})_0, (\\alpha_{ij}^{l})_1, ..., (\\alpha_{ij}^{l})_N,$. The final node's hidden state is obtained by concatenation all heads' outputs."
      ]
    },
    {
      "cell_type": "markdown",
      "id": "ed046bcf",
      "metadata": {
        "id": "ed046bcf"
      },
      "source": [
        "Here is the GAT layer that calculates nodes' preliminary hidden states by `self.fc` ($W_\\text{node}$) layer and copies them to the node feature `z`, then concatenates them on edges by `edge_cat` function and copies to the edge feature `z`, then calculates attention score by `self.attn_fc` ($W_\\text{edge}$) layer and performs message passing. At the end, it concatenates the next hidden states from all heads.\n",
        "\n",
        "_Remark: `graph.apply_edges` applies an edge-wise function on all edges in the graph._"
      ]
    },
    {
      "cell_type": "code",
      "execution_count": 95,
      "id": "7df03d73",
      "metadata": {
        "deletable": false,
        "editable": false,
        "id": "7df03d73",
        "nbgrader": {
          "cell_type": "code",
          "checksum": "196cc47282c1195fda00e09bd227fe79",
          "grade": false,
          "grade_id": "cell-21314765531e0c74",
          "locked": true,
          "schema_version": 3,
          "solution": false,
          "task": false
        }
      },
      "outputs": [],
      "source": [
        "class GATLayer(nn.Module):\n",
        "    def __init__(self, in_dim, out_dim, n_heads):\n",
        "        super().__init__()\n",
        "        self.fc = nn.Linear(in_dim, out_dim)\n",
        "        self.n_heads = n_heads\n",
        "        attn_fc = []\n",
        "        for _ in range(n_heads):\n",
        "            attn_fc.append(nn.Linear(2 * out_dim, 1))\n",
        "        self.attn_fc = nn.ModuleList(attn_fc)\n",
        "\n",
        "    def forward(self, graph, feat):\n",
        "        with graph.local_scope():\n",
        "            graph = graph.add_self_loop()\n",
        "            graph.ndata['z'] = self.fc(feat)\n",
        "            graph.apply_edges(edge_cat)\n",
        "            edge_z = graph.edata['z']\n",
        "            h = []\n",
        "            for i in range(self.n_heads):\n",
        "                graph.edata['e'] = F.leaky_relu(self.attn_fc[i](edge_z))\n",
        "                graph.update_all(message_func, reduce_func)\n",
        "                h.append(graph.ndata['h'])\n",
        "            return torch.cat(h, dim=1)"
      ]
    },
    {
      "cell_type": "markdown",
      "id": "fe1864c2",
      "metadata": {
        "id": "fe1864c2"
      },
      "source": [
        "In DGL, we can implement specific functions that can be applied on edges or nodes. Let us define an edge-wise function that concatenates nodes' preliminary hidden states `z` and copies them to the edge feature `z`. It takes a batch of edges `dgl.udf.EdgeBatch` which contains source node features in the attribute `src`, destination node features in the attribute `dst` and edge features in the attribute `data`. For example:\n",
        "* `edges.src['z']` is the source node feature `z`\n",
        "* `edges.dst['z']` is the destination node feature `z`\n",
        "* `edges.data['e']` is the edges feature `e`\n",
        "\n",
        "Write a function `edge_cat` that takes a batch of edges and returns a dictionary where the key is `z` and the value is concatenated the source node feature `z` and the destination node feature `z`."
      ]
    },
    {
      "cell_type": "code",
      "execution_count": 96,
      "id": "5b35055e",
      "metadata": {
        "deletable": false,
        "id": "5b35055e",
        "nbgrader": {
          "cell_type": "code",
          "checksum": "668cbae4fbc494c01a25c8b354f258ea",
          "grade": false,
          "grade_id": "cell-ce362a06bda2e6de",
          "locked": false,
          "schema_version": 3,
          "solution": true,
          "task": false
        }
      },
      "outputs": [],
      "source": [
        "def edge_cat(edges):\n",
        "    return {'z': torch.cat([edges.src['z'], edges.dst['z']], dim=1)}"
      ]
    },
    {
      "cell_type": "code",
      "execution_count": 97,
      "id": "2dba9efa",
      "metadata": {
        "deletable": false,
        "editable": false,
        "id": "2dba9efa",
        "nbgrader": {
          "cell_type": "code",
          "checksum": "04a8035313508d82117b7cf138a93a3a",
          "grade": true,
          "grade_id": "cell-ac20c7b9a52d701a",
          "locked": true,
          "points": 0.67,
          "schema_version": 3,
          "solution": false,
          "task": false
        }
      },
      "outputs": [],
      "source": [
        "class EdgeBatch:\n",
        "    def __init__(self):\n",
        "        self.src = {'z': torch.arange(10).tile(3, 1)}\n",
        "        self.dst = {'z': torch.arange(10, 20).tile(3, 1)}\n",
        "        self.data = {'e': torch.arange(20).tile(5, 1)}\n",
        "edges = EdgeBatch()\n",
        "res = edge_cat(edges)\n",
        "assert res['z'].shape == (3, 20)\n",
        "assert torch.all(res['z'][0] == torch.arange(20))"
      ]
    },
    {
      "cell_type": "markdown",
      "id": "554ac592",
      "metadata": {
        "id": "554ac592"
      },
      "source": [
        "Next, implement the message function. Message function simply copies the source nodes' feature `z` and edges' feature `e` into mailboxes `z` and `e`.\n",
        "\n",
        "Write a function `message_func` that takes a batch of edges and returns a dictionary:\n",
        "* the key is `z`, the value is source nodes' feature `z`\n",
        "* the key is `e`, the value is edges' feature `e`"
      ]
    },
    {
      "cell_type": "code",
      "execution_count": 98,
      "id": "a2e0475d",
      "metadata": {
        "deletable": false,
        "id": "a2e0475d",
        "nbgrader": {
          "cell_type": "code",
          "checksum": "8cc00e8a928114f9d63558d06f42a931",
          "grade": false,
          "grade_id": "cell-3a18badcbd54139b",
          "locked": false,
          "schema_version": 3,
          "solution": true,
          "task": false
        }
      },
      "outputs": [],
      "source": [
        "def message_func(edges):\n",
        "    return {'z': edges.src['z'], 'e': edges.data['e']}"
      ]
    },
    {
      "cell_type": "code",
      "execution_count": 99,
      "id": "ed8c7b78",
      "metadata": {
        "deletable": false,
        "editable": false,
        "id": "ed8c7b78",
        "nbgrader": {
          "cell_type": "code",
          "checksum": "c856676cd953bc1526a4e30294757ecd",
          "grade": true,
          "grade_id": "cell-2ef6cc6f7d9b708f",
          "locked": true,
          "points": 0.67,
          "schema_version": 3,
          "solution": false,
          "task": false
        }
      },
      "outputs": [],
      "source": [
        "class EdgeBatch:\n",
        "    def __init__(self):\n",
        "        self.src = {'z': torch.arange(10).tile(3, 1)}\n",
        "        self.dst = {'z': torch.arange(10, 20).tile(3, 1)}\n",
        "        self.data = {'e': torch.arange(20).tile(5, 1)}\n",
        "edges = EdgeBatch()\n",
        "res = message_func(edges)\n",
        "assert res['z'].shape == (3, 10)\n",
        "assert torch.all(res['z'][0] == torch.arange(10))\n",
        "assert res['e'].shape == (5, 20)\n",
        "assert torch.all(res['e'][0] == torch.arange(20))"
      ]
    },
    {
      "cell_type": "markdown",
      "id": "4f41c262",
      "metadata": {
        "id": "4f41c262"
      },
      "source": [
        "The reduce funtion takes a batch of nodes `dgl.udf.NodeBatch` and calculates the next hidden states of nodes by summation of preliminary hidden states `z` weighted by attention score:\n",
        "$$\\alpha_{ij} = \\text{Softmax}_i(e_{ij})$$\n",
        "$$h_i = \\sum_{j \\in \\mathcal{N}(i)}\\alpha_{ij}z_j$$\n",
        "\n",
        "The batch of nodes contains incoming messages in the attribute `mailbox` of the shape (N, D, 1), where N is the number of nodes in the batch, D is the number of messages received per node for this node batch.\n",
        "\n",
        "Write a function `reduce_func` that takes a batch of nodes with mailboxes `z` and `e` and returns a dictionary where the key is `h`, the value is the next hidden states of nodes."
      ]
    },
    {
      "cell_type": "code",
      "execution_count": 100,
      "id": "e5dd2e63",
      "metadata": {
        "deletable": false,
        "id": "e5dd2e63",
        "nbgrader": {
          "cell_type": "code",
          "checksum": "95573749111fe5a7223ef0070b2d0874",
          "grade": false,
          "grade_id": "cell-fa9346fd8971f05b",
          "locked": false,
          "schema_version": 3,
          "solution": true,
          "task": false
        }
      },
      "outputs": [],
      "source": [
        "def reduce_func(nodes):\n",
        "    alpha = F.softmax(nodes.mailbox['e'], dim=1)\n",
        "    return {'h': torch.sum(alpha * nodes.mailbox['z'], dim=1)}"
      ]
    },
    {
      "cell_type": "code",
      "execution_count": 101,
      "id": "d2bb6114",
      "metadata": {
        "deletable": false,
        "editable": false,
        "id": "d2bb6114",
        "nbgrader": {
          "cell_type": "code",
          "checksum": "8bcfc66c7f372ac14df93ceefa350d26",
          "grade": true,
          "grade_id": "cell-6cf5795c738e58f8",
          "locked": true,
          "points": 0.67,
          "schema_version": 3,
          "solution": false,
          "task": false
        }
      },
      "outputs": [],
      "source": [
        "class NodeBatch:\n",
        "    def __init__(self):\n",
        "        self.mailbox = dict()\n",
        "        self.mailbox['e'] = torch.arange(10, 20, dtype=float).tile(3, 1)[..., None]\n",
        "        self.mailbox['z'] = torch.arange(10, dtype=float).tile(3, 1)[..., None]\n",
        "nodes = NodeBatch()\n",
        "assert reduce_func(nodes)['h'].shape == (3, 1)\n",
        "assert round(reduce_func(nodes)['h'][0].item(), 4) == 8.4185"
      ]
    },
    {
      "cell_type": "markdown",
      "id": "a2a14cf4",
      "metadata": {
        "id": "a2a14cf4"
      },
      "source": [
        "Write a class `GAT` that takes a graph and a feature matrix and performs two-layer convolution with intermediate ReLU activation. The class initialized by input, hidden, output dimensions and the number of heads in the first layer. The second layer contains a single head."
      ]
    },
    {
      "cell_type": "code",
      "execution_count": 102,
      "id": "56ef1c65",
      "metadata": {
        "deletable": false,
        "id": "56ef1c65",
        "nbgrader": {
          "cell_type": "code",
          "checksum": "48273454d4e693bf7b20e8af8dde5196",
          "grade": false,
          "grade_id": "cell-57ec6b461b254ec6",
          "locked": false,
          "schema_version": 3,
          "solution": true,
          "task": false
        }
      },
      "outputs": [],
      "source": [
        "class GAT(nn.Module):\n",
        "    def __init__(self, in_dim, hid_dim, out_dim, n_heads):\n",
        "        super().__init__()\n",
        "        self.conv1 = GATLayer(in_dim, hid_dim, n_heads)\n",
        "        self.conv2 = GATLayer(hid_dim * n_heads, out_dim, 1) # Second layer has 1 head\n",
        "\n",
        "    def forward(self, graph, feat):\n",
        "        h = self.conv1(graph, feat)\n",
        "        h = F.relu(h)\n",
        "        h = self.conv2(graph, h)\n",
        "        return h"
      ]
    },
    {
      "cell_type": "code",
      "execution_count": 103,
      "id": "23df8dcd",
      "metadata": {
        "deletable": false,
        "editable": false,
        "id": "23df8dcd",
        "nbgrader": {
          "cell_type": "code",
          "checksum": "dea3fd3cc1a0f67d8cf0ec2b4d07cfe2",
          "grade": true,
          "grade_id": "cell-fbee928783f27b2a",
          "locked": true,
          "points": 0.67,
          "schema_version": 3,
          "solution": false,
          "task": false
        }
      },
      "outputs": [],
      "source": [
        "model = GAT(2708, 32, 7, n_heads=4)\n",
        "logits = model.conv1(graph, torch.eye(2708))\n",
        "assert logits.shape == (2708, 128)\n",
        "logits = model(graph, torch.eye(2708))\n",
        "assert logits.shape == (2708, 7)\n",
        "assert logits.min() < 0"
      ]
    },
    {
      "cell_type": "markdown",
      "id": "3c849aec",
      "metadata": {
        "id": "3c849aec"
      },
      "source": [
        "Let us initialize the model and the optimizer."
      ]
    },
    {
      "cell_type": "code",
      "execution_count": 104,
      "id": "5fefc93e",
      "metadata": {
        "id": "5fefc93e"
      },
      "outputs": [],
      "source": [
        "model = GAT(in_dim=1433, hid_dim=16, out_dim=7, n_heads=3)\n",
        "opt = Adam(model.parameters(), lr=0.005, weight_decay=0.001)\n",
        "log = []"
      ]
    },
    {
      "cell_type": "markdown",
      "id": "5e76ba50",
      "metadata": {
        "id": "5e76ba50"
      },
      "source": [
        "We train the model in semi-supervised setting: propagate information over the full graph, but optimize it by only train cross-entropy loss."
      ]
    },
    {
      "cell_type": "code",
      "execution_count": 105,
      "id": "f24f36b4",
      "metadata": {
        "colab": {
          "base_uri": "https://localhost:8080/",
          "height": 484,
          "referenced_widgets": [
            "299e06f4a2324f28bc19c8e274b10444",
            "bbd33ee9fb004f239f39795a1dda2f6b",
            "23ca0df2643946b281162979e6766e82",
            "dcdeab40b93c4184b58882e70ef6a249",
            "73d265cd84da4682b0b13a7194d9a883",
            "ecd10caf39c84765be89c870e8710559",
            "653fbed574de4f8fa4a3b46f97aab917",
            "0b8dfebdf2e24b2c8c3056ea30d5520d",
            "bf5f2e6a61114562b9a807f7b0aeb78c",
            "affd43ac0a8c427d8c83e4925e93abf0",
            "098a5636cc06494a8020f595855c3bb9"
          ]
        },
        "id": "f24f36b4",
        "outputId": "2072317f-bfbb-4865-887f-64f8c9ff14c0"
      },
      "outputs": [
        {
          "data": {
            "application/vnd.jupyter.widget-view+json": {
              "model_id": "299e06f4a2324f28bc19c8e274b10444",
              "version_major": 2,
              "version_minor": 0
            },
            "text/plain": [
              "  0%|          | 0/120 [00:00<?, ?it/s]"
            ]
          },
          "metadata": {},
          "output_type": "display_data"
        },
        {
          "data": {
            "image/png": "[encoded data removed]",
            "text/plain": [
              "<Figure size 640x480 with 1 Axes>"
            ]
          },
          "metadata": {},
          "output_type": "display_data"
        }
      ],
      "source": [
        "n_epochs = 120\n",
        "for i in trange(n_epochs):\n",
        "\n",
        "    logits = model(graph, feat)\n",
        "    train_loss = F.cross_entropy(logits[train_mask], label[train_mask])\n",
        "\n",
        "    opt.zero_grad()\n",
        "    train_loss.backward()\n",
        "    opt.step()\n",
        "\n",
        "    with torch.no_grad():\n",
        "        val_loss = F.cross_entropy(logits[val_mask], label[val_mask])\n",
        "\n",
        "    log.append([train_loss.item(), val_loss.item()])\n",
        "\n",
        "plt.plot(np.array(log))\n",
        "plt.title('Loss')\n",
        "plt.legend(['train', 'val'])\n",
        "plt.show()"
      ]
    },
    {
      "cell_type": "code",
      "execution_count": 106,
      "id": "e66301f3",
      "metadata": {
        "colab": {
          "base_uri": "https://localhost:8080/"
        },
        "deletable": false,
        "editable": false,
        "id": "e66301f3",
        "nbgrader": {
          "cell_type": "code",
          "checksum": "79efdeca8d9bd270d2ef0955d5fe5f4f",
          "grade": true,
          "grade_id": "cell-11d791f5122b19f3",
          "locked": true,
          "points": 0.67,
          "schema_version": 3,
          "solution": false,
          "task": false
        },
        "outputId": "d2e0086d-4081-4eb5-e5e4-655443ad9760"
      },
      "outputs": [
        {
          "name": "stdout",
          "output_type": "stream",
          "text": [
            "Balanced accuracy: 0.75\n"
          ]
        }
      ],
      "source": [
        "with torch.no_grad():\n",
        "    logits = model(graph, feat)\n",
        "y_pred = torch.argmax(logits[test_mask], 1)\n",
        "score = balanced_accuracy_score(label[test_mask], y_pred)\n",
        "assert score > 0.7\n",
        "print(f'Balanced accuracy: {score:.2f}')"
      ]
    },
    {
      "cell_type": "markdown",
      "id": "d1c7e216",
      "metadata": {
        "id": "d1c7e216"
      },
      "source": [
        "We can explain model's predictions using GAT — neighbors with large attention score have the great impact to model's prediction. Let us calculate the neighbors importance using the attention score.\n",
        "\n",
        "Write a function `neighbor_importance` that takes a node index for which we want to explain the prediction, a trained GAT, a graph and a feature matrix. It returns a tuple:\n",
        "* np.array with indices of neighbors\n",
        "* np.array with attention scores on the first GAT layer for each neighbor. Attention score is averaged among all heads.\n",
        "\n",
        "_Hint: use `graph.predecessors` to obtain neighbors_"
      ]
    },
    {
      "cell_type": "code",
      "execution_count": 107,
      "id": "MS9orNpQOfHz",
      "metadata": {
        "colab": {
          "base_uri": "https://localhost:8080/"
        },
        "id": "MS9orNpQOfHz",
        "outputId": "64d7e700-0c28-466d-eda1-0570b5e02062"
      },
      "outputs": [
        {
          "name": "stdout",
          "output_type": "stream",
          "text": [
            "  NumNodes: 2708\n",
            "  NumEdges: 10556\n",
            "  NumFeats: 1433\n",
            "  NumClasses: 7\n",
            "  NumTrainingSamples: 140\n",
            "  NumValidationSamples: 500\n",
            "  NumTestSamples: 1000\n",
            "Done loading data from cached files.\n"
          ]
        }
      ],
      "source": [
        "# Just before testing neighbor_importance\n",
        "data = CoraGraphDataset(force_reload=False) # force_reload=True if you want to be absolutely sure\n",
        "graph = data[0]\n",
        "feat = graph.ndata['feat']\n",
        "# ... rest of the setup for neighbor_importance call"
      ]
    },
    {
      "cell_type": "code",
      "execution_count": 108,
      "id": "49a81627",
      "metadata": {
        "deletable": false,
        "id": "49a81627",
        "nbgrader": {
          "cell_type": "code",
          "checksum": "bbc1d91f57b98dfcf437581e2b38a755",
          "grade": false,
          "grade_id": "cell-409230373547e910",
          "locked": false,
          "schema_version": 3,
          "solution": true,
          "task": false
        }
      },
      "outputs": [],
      "source": [
        "def neighbor_importance(expl_node, model, graph, feat):\n",
        "    dgl.add_self_loop(graph)\n",
        "    with torch.no_grad(), graph.local_scope():\n",
        "        g = graph.add_self_loop()\n",
        "        h_trans = model.conv1.fc(feat)\n",
        "        g.ndata['h_trans'] = h_trans\n",
        "        def _cat(edges):\n",
        "            return {'concat': torch.cat([edges.src['h_trans'], edges.dst['h_trans']], dim=1)}\n",
        "        g.apply_edges(_cat)\n",
        "        edge_feat = g.edata['concat']\n",
        "        head_alphas = []\n",
        "        for attn_fc in model.conv1.attn_fc:\n",
        "            e = F.leaky_relu(attn_fc(edge_feat))\n",
        "            α = dgl.nn.functional.edge_softmax(g, e)\n",
        "            head_alphas.append(α)\n",
        "        avg_alpha = torch.mean(torch.stack(head_alphas, dim=0), dim=0)\n",
        "\n",
        "        src_nodes, _, edge_ids = g.in_edges(expl_node, form='all')\n",
        "\n",
        "        attns = avg_alpha[edge_ids].squeeze()\n",
        "\n",
        "        return src_nodes.cpu().numpy(), attns.cpu().numpy()\n"
      ]
    },
    {
      "cell_type": "code",
      "execution_count": 109,
      "id": "4c6190ac",
      "metadata": {
        "colab": {
          "base_uri": "https://localhost:8080/",
          "height": 472
        },
        "deletable": false,
        "editable": false,
        "id": "4c6190ac",
        "nbgrader": {
          "cell_type": "code",
          "checksum": "e120b8bff1738540880015ee455dcb5f",
          "grade": true,
          "grade_id": "cell-9f74e551dbc38adf",
          "locked": true,
          "points": 0.6499999999999999,
          "schema_version": 3,
          "solution": false,
          "task": false
        },
        "outputId": "bd9e17dd-06ff-4f80-8353-e447952e5f29"
      },
      "outputs": [
        {
          "data": {
            "image/png": "[encoded data removed]",
            "text/plain": [
              "<Figure size 640x480 with 1 Axes>"
            ]
          },
          "metadata": {},
          "output_type": "display_data"
        }
      ],
      "source": [
        "neigh, attn = neighbor_importance(1941, model, graph, feat)\n",
        "assert type(neigh) == type(attn) == np.ndarray\n",
        "assert neigh.shape == attn.shape and neigh.shape in {(6,), (7,)}\n",
        "assert round(attn.sum(), 2) == 1\n",
        "\n",
        "plt.bar(neigh.astype('str'), attn)\n",
        "plt.xlabel('Node')\n",
        "plt.ylabel('Attention')\n",
        "plt.title('Neighbor importance')\n",
        "plt.show()"
      ]
    },
    {
      "cell_type": "markdown",
      "id": "a294b8ad",
      "metadata": {
        "id": "a294b8ad"
      },
      "source": [
        "### 5. Neighbor sampling with GraphSAGE"
      ]
    },
    {
      "cell_type": "markdown",
      "id": "308322f8",
      "metadata": {
        "id": "308322f8"
      },
      "source": [
        "GraphSAGE (SAmple and AggreGatE) was proposed in [[7]](#references) as a model for inductive representation learning on large graph. There are two main things:\n",
        "* Neighbor sampling allows to train models in mini-batches, that is the model can be trained on large graphs and it also can represent previously unseen nodes (semi-supervised inductive learning)\n",
        "* Aggregation is perfomed separately on neighboring nodes and the node itself, that can be considered as \"skip-connections\" in graph neural networks\n",
        "\n",
        "Neighbor sampling is a technique to construct a message flow graph by randomly sampled neighbors of a target node.\n",
        "\n",
        "<img src='https://raw.githubusercontent.com/netspractice/network-science/main/images/neighbor_sampling.png' width=800>"
      ]
    },
    {
      "cell_type": "markdown",
      "id": "4bddb502",
      "metadata": {
        "id": "4bddb502"
      },
      "source": [
        "In DGL, neighbor sampling is performed by `DataLoader`. First, we create sets of indices with train, validation and test nodes."
      ]
    },
    {
      "cell_type": "code",
      "execution_count": 110,
      "id": "c056e85a",
      "metadata": {
        "colab": {
          "base_uri": "https://localhost:8080/"
        },
        "id": "c056e85a",
        "outputId": "bb56a159-e9c7-4ff4-fecd-b9abd358545a"
      },
      "outputs": [
        {
          "data": {
            "text/plain": [
              "(tensor([0, 1, 2, 3, 4]),\n",
              " tensor([140, 141, 142, 143, 144]),\n",
              " tensor([1708, 1709, 1710, 1711, 1712]))"
            ]
          },
          "execution_count": 110,
          "metadata": {},
          "output_type": "execute_result"
        }
      ],
      "source": [
        "train_nids = graph.nodes()[train_mask]\n",
        "val_nids = graph.nodes()[val_mask]\n",
        "test_nids = graph.nodes()[test_mask]\n",
        "train_nids[:5], val_nids[:5], test_nids[:5]"
      ]
    },
    {
      "cell_type": "markdown",
      "id": "1a59f3e7",
      "metadata": {
        "id": "1a59f3e7"
      },
      "source": [
        "Next, we create `NeighborSampler` with given number of neighbors for each layer of our network. Let it be 4 neihbors for the first layer and 4 neighbors for the second. Next, we create dataloader with the sampler."
      ]
    },
    {
      "cell_type": "code",
      "execution_count": 111,
      "id": "292d1347",
      "metadata": {
        "colab": {
          "base_uri": "https://localhost:8080/"
        },
        "id": "292d1347",
        "outputId": "d5ff331f-0413-46b8-f710-b86f0deab8ee"
      },
      "outputs": [
        {
          "data": {
            "text/plain": [
              "140"
            ]
          },
          "execution_count": 111,
          "metadata": {},
          "output_type": "execute_result"
        }
      ],
      "source": [
        "sampler = dgl.dataloading.NeighborSampler(fanouts=[4, 4])\n",
        "train_dataloader = dgl.dataloading.DataLoader(graph, train_nids, sampler, batch_size=1)\n",
        "len(train_dataloader)"
      ]
    },
    {
      "cell_type": "markdown",
      "id": "f2ae454c",
      "metadata": {
        "id": "f2ae454c"
      },
      "source": [
        "We have set batch size is 1, that is each batch contains a single target node. The number of train nodes is 140. Dataloader iterates over:\n",
        "* input nodes — the nodes from which we collect messages in the first layer\n",
        "* output nodes — the target nodes that aggregate messages from neighbors in the second layers\n",
        "* message flow graphs — list of graphs for layers"
      ]
    },
    {
      "cell_type": "code",
      "execution_count": 112,
      "id": "bb6cba51",
      "metadata": {
        "colab": {
          "base_uri": "https://localhost:8080/"
        },
        "id": "bb6cba51",
        "outputId": "46603fd6-7ec0-4026-db65-53ecaf37ace8"
      },
      "outputs": [
        {
          "data": {
            "text/plain": [
              "(tensor([   0, 2582,  633, 1862, 1166, 1866, 1701,  926]), tensor([0]))"
            ]
          },
          "execution_count": 112,
          "metadata": {},
          "output_type": "execute_result"
        }
      ],
      "source": [
        "for input_nodes, output_nodes, mfgs in train_dataloader:\n",
        "    break\n",
        "input_nodes, output_nodes"
      ]
    },
    {
      "cell_type": "code",
      "execution_count": 113,
      "id": "Vp3iC4C1ipiV",
      "metadata": {
        "colab": {
          "base_uri": "https://localhost:8080/"
        },
        "id": "Vp3iC4C1ipiV",
        "outputId": "490292ae-7c07-4ac3-e8cb-c3402a8f73e0"
      },
      "outputs": [
        {
          "data": {
            "text/plain": [
              "[Block(num_src_nodes=8, num_dst_nodes=4, num_edges=13),\n",
              " Block(num_src_nodes=4, num_dst_nodes=1, num_edges=3)]"
            ]
          },
          "execution_count": 113,
          "metadata": {},
          "output_type": "execute_result"
        }
      ],
      "source": [
        "mfgs"
      ]
    },
    {
      "cell_type": "code",
      "execution_count": 114,
      "id": "49567254",
      "metadata": {
        "colab": {
          "base_uri": "https://localhost:8080/"
        },
        "id": "49567254",
        "outputId": "83c9c19e-cc54-413a-9e85-74958bf339d5"
      },
      "outputs": [
        {
          "data": {
            "text/plain": [
              "(tensor([3, 2, 1, 3, 4, 0, 0, 5, 6, 0, 6, 1, 7]),\n",
              " tensor([0, 0, 0, 1, 1, 1, 2, 2, 2, 3, 3, 3, 3]))"
            ]
          },
          "execution_count": 114,
          "metadata": {},
          "output_type": "execute_result"
        }
      ],
      "source": [
        "mfgs[0].edges()"
      ]
    },
    {
      "cell_type": "markdown",
      "id": "16cdf063",
      "metadata": {
        "id": "16cdf063"
      },
      "source": [
        "The message flow graph (MFG) for the second layer consists of neighbors of the target nodes. Note that indices of nodes in MFG differs from indices in the original graph to optimize the message passing."
      ]
    },
    {
      "cell_type": "code",
      "execution_count": 115,
      "id": "b95d9250",
      "metadata": {
        "colab": {
          "base_uri": "https://localhost:8080/"
        },
        "id": "b95d9250",
        "outputId": "0a679acd-f49e-46e5-f3c6-4c7b95560948"
      },
      "outputs": [
        {
          "data": {
            "text/plain": [
              "(tensor([0, 1, 2, 3]), tensor([0]))"
            ]
          },
          "execution_count": 115,
          "metadata": {},
          "output_type": "execute_result"
        }
      ],
      "source": [
        "mfgs[1].srcnodes(), mfgs[1].dstnodes()"
      ]
    },
    {
      "cell_type": "markdown",
      "id": "fd8edf40",
      "metadata": {
        "id": "fd8edf40"
      },
      "source": [
        "MFG is bipartite, that is messages are passing from neighbors (source nodes) 0, 1, 2, 3 to the target (destination) node 0."
      ]
    },
    {
      "cell_type": "code",
      "execution_count": 116,
      "id": "d6e130d0",
      "metadata": {
        "colab": {
          "base_uri": "https://localhost:8080/"
        },
        "id": "d6e130d0",
        "outputId": "4b211bbd-53ca-441e-a8a6-095278dc85e5"
      },
      "outputs": [
        {
          "data": {
            "text/plain": [
              "(tensor([3, 2, 1, 3, 4, 0, 0, 5, 6, 0, 6, 1, 7]),\n",
              " tensor([0, 0, 0, 1, 1, 1, 2, 2, 2, 3, 3, 3, 3]))"
            ]
          },
          "execution_count": 116,
          "metadata": {},
          "output_type": "execute_result"
        }
      ],
      "source": [
        "mfgs[0].edges()"
      ]
    },
    {
      "cell_type": "markdown",
      "id": "f4b74fcf",
      "metadata": {
        "id": "f4b74fcf"
      },
      "source": [
        "The first MFG consists of edges that follow from source nodes in the first layer (0, 1, 2, 3, 4, 5, 6, 7) to sourse nodes in the second layer (0, 1, 2, 3). Let us create train, validation and test dataloaders with batch size 64."
      ]
    },
    {
      "cell_type": "code",
      "execution_count": 117,
      "id": "8c703230",
      "metadata": {
        "colab": {
          "base_uri": "https://localhost:8080/"
        },
        "id": "8c703230",
        "outputId": "188518c8-aa5c-4d4b-fce3-7c05464aa95c"
      },
      "outputs": [
        {
          "data": {
            "text/plain": [
              "(3, 8, 16)"
            ]
          },
          "execution_count": 117,
          "metadata": {},
          "output_type": "execute_result"
        }
      ],
      "source": [
        "train_dataloader = dgl.dataloading.DataLoader(graph, train_nids, sampler, batch_size=64)\n",
        "val_dataloader = dgl.dataloading.DataLoader(graph, val_nids, sampler, batch_size=64)\n",
        "test_dataloader = dgl.dataloading.DataLoader(graph, test_nids, sampler, batch_size=64)\n",
        "len(train_dataloader), len(val_dataloader), len(test_dataloader)"
      ]
    },
    {
      "cell_type": "markdown",
      "id": "a7f1688b",
      "metadata": {
        "id": "a7f1688b"
      },
      "source": [
        "GraphSAGE is defined by message passing:\n",
        "\n",
        "$$h_i^l = W^l[h_i^{l-1} || \\text{Aggregation}_{j \\in \\mathcal{N}(i)}(h_j^{l-1})]$$\n",
        "\n",
        "where $[\\cdot||\\cdot]$ is concatenation. Aggregation function may be represented by average, maximum or LSTM. Let us define two-layer GraphSAGE with average aggregation and intermediate ReLU activation. `SAGEConv` layer takes the MFG and features of source node, returns the hidden of destinations nodes.\n",
        "\n",
        "Write a function `forward` that takes MFGs, feature matrix for input nodes and returns the next hidden states of output nodes."
      ]
    },
    {
      "cell_type": "code",
      "execution_count": 118,
      "id": "1c6d212a",
      "metadata": {
        "deletable": false,
        "id": "1c6d212a",
        "nbgrader": {
          "cell_type": "code",
          "checksum": "a8240c388d4a88c8baba1ad933da82ab",
          "grade": false,
          "grade_id": "cell-42631ac0523a62a7",
          "locked": false,
          "schema_version": 3,
          "solution": true,
          "task": false
        }
      },
      "outputs": [],
      "source": [
        "class GraphSAGE(nn.Module):\n",
        "    def __init__(self, in_dim, hid_dim, out_dim):\n",
        "        super().__init__()\n",
        "        self.conv1 = SAGEConv(in_dim, hid_dim, aggregator_type='mean')\n",
        "        self.conv2 = SAGEConv(hid_dim, out_dim, aggregator_type='mean')\n",
        "\n",
        "    def forward(self, mfgs, feat):\n",
        "        # YOUR CODE HERE\n",
        "        h = self.conv1(mfgs[0], feat)\n",
        "        h = F.relu(h)\n",
        "        h = self.conv2(mfgs[1], h)\n",
        "        return h\n",
        "\n",
        "        #raise NotImplementedError()"
      ]
    },
    {
      "cell_type": "markdown",
      "id": "e747b35e",
      "metadata": {
        "id": "e747b35e"
      },
      "source": [
        "We train the model in semi-supervised setting: propagate information over the full graph, but optimize it by only train cross-entropy loss.\n",
        "\n",
        "Write a function `train_epoch` that takes GraphSAGE model, train dataloader, validation dataloader, the full feature matrix, labels and optimizer. It returns a tuple: the average train loss and the average validation loss."
      ]
    },
    {
      "cell_type": "code",
      "execution_count": 119,
      "id": "d43c50da",
      "metadata": {
        "deletable": false,
        "id": "d43c50da",
        "nbgrader": {
          "cell_type": "code",
          "checksum": "73d95920bbbccb1a805f27142fe43168",
          "grade": false,
          "grade_id": "cell-7a7eb641f7d14a3b",
          "locked": false,
          "schema_version": 3,
          "solution": true,
          "task": false
        }
      },
      "outputs": [],
      "source": [
        "def train_epoch(model, train_dataloader, val_dataloader, feat, label, opt):\n",
        "    # YOUR CODE HERE\n",
        "    #raise NotImplementedError()\n",
        "    train_loss_list, val_loss_list = [], []\n",
        "    for input_nodes, output_nodes, mfgs in train_dataloader:\n",
        "      logits = model(mfgs, feat[input_nodes])\n",
        "      train_loss = F.cross_entropy(logits, label[output_nodes])\n",
        "\n",
        "      opt.zero_grad()\n",
        "      train_loss.backward()\n",
        "      opt.step()\n",
        "\n",
        "      train_loss_list.append(train_loss.item())\n",
        "    for input_nodes, output_nodes, mfgs in val_dataloader:\n",
        "      with torch.no_grad():\n",
        "        logits = model(mfgs, feat[input_nodes])\n",
        "        val_loss = F.cross_entropy(logits, label[output_nodes])\n",
        "\n",
        "\n",
        "      val_loss_list.append(val_loss.item())\n",
        "\n",
        "    return float(np.array(train_loss_list).mean()), float(np.array(val_loss_list).mean())\n",
        "\n"
      ]
    },
    {
      "cell_type": "code",
      "execution_count": 120,
      "id": "8776fb7b",
      "metadata": {
        "deletable": false,
        "editable": false,
        "id": "8776fb7b",
        "nbgrader": {
          "cell_type": "code",
          "checksum": "680b7450b92d8a2c0f5eaa77d0749eba",
          "grade": true,
          "grade_id": "cell-a6c94febdc58013b",
          "locked": true,
          "points": 1.5,
          "schema_version": 3,
          "solution": false,
          "task": false
        }
      },
      "outputs": [],
      "source": [
        "model = GraphSAGE(1433, 16, 7)\n",
        "opt = Adam(model.parameters(), lr=0.1)\n",
        "train_loss, val_loss = train_epoch(model, train_dataloader, val_dataloader, feat, label, opt)\n",
        "assert type(train_loss) == float\n",
        "assert type(val_loss) == float\n",
        "assert 1.8 < train_loss < 2.2\n",
        "assert 1.8 < val_loss < 2.2\n",
        "train_loss, val_loss = train_epoch(model, train_dataloader, val_dataloader, feat, label, opt)\n",
        "train_loss, val_loss = train_epoch(model, train_dataloader, val_dataloader, feat, label, opt)\n",
        "assert train_loss < val_loss"
      ]
    },
    {
      "cell_type": "code",
      "execution_count": 121,
      "id": "cJU1ZgblcHAf",
      "metadata": {
        "colab": {
          "base_uri": "https://localhost:8080/"
        },
        "id": "cJU1ZgblcHAf",
        "outputId": "9d7c7890-b131-417d-f4ba-504a11af7d52"
      },
      "outputs": [
        {
          "data": {
            "text/plain": [
              "1.3826604684193928"
            ]
          },
          "execution_count": 121,
          "metadata": {},
          "output_type": "execute_result"
        }
      ],
      "source": [
        "train_loss"
      ]
    },
    {
      "cell_type": "markdown",
      "id": "e5530e48",
      "metadata": {
        "id": "e5530e48"
      },
      "source": [
        "Initialize the model and optimizers."
      ]
    },
    {
      "cell_type": "code",
      "execution_count": 122,
      "id": "a58dff00",
      "metadata": {
        "id": "a58dff00"
      },
      "outputs": [],
      "source": [
        "model = GraphSAGE(1433, 16, 7)\n",
        "opt = Adam(model.parameters(), lr=0.01)"
      ]
    },
    {
      "cell_type": "markdown",
      "id": "28def0b8",
      "metadata": {
        "id": "28def0b8"
      },
      "source": [
        "Train the model."
      ]
    },
    {
      "cell_type": "code",
      "execution_count": 123,
      "id": "55698c78",
      "metadata": {
        "colab": {
          "base_uri": "https://localhost:8080/",
          "height": 484,
          "referenced_widgets": [
            "427e23a53bc8432096fa51c1ce061ea2",
            "a1723178a93646e6a1b11d21526c2448",
            "8844c588caeb4b529fcf5fc1a81c1dd7",
            "a11e2f7e50c744af91920ee5ffca2a58",
            "9a16d38e4d634428a416a0ec231e12a2",
            "d523466d7c5a413fbe13e6df453cdedf",
            "012eebae5513433a9d8e391b0e190197",
            "dd4f2205861743cc971e53cbd1cf1439",
            "268ea840bc7645bfb4bffd03896dee4f",
            "8186c12109a44889a2f5398778496dc9",
            "006cbabb7c0e40f98a1dbf9fc355bf86"
          ]
        },
        "id": "55698c78",
        "outputId": "3a804ddb-365a-437b-85b0-20aba0c720a9"
      },
      "outputs": [
        {
          "data": {
            "application/vnd.jupyter.widget-view+json": {
              "model_id": "427e23a53bc8432096fa51c1ce061ea2",
              "version_major": 2,
              "version_minor": 0
            },
            "text/plain": [
              "  0%|          | 0/50 [00:00<?, ?it/s]"
            ]
          },
          "metadata": {},
          "output_type": "display_data"
        },
        {
          "data": {
            "image/png": "[encoded data removed]",
            "text/plain": [
              "<Figure size 640x480 with 1 Axes>"
            ]
          },
          "metadata": {},
          "output_type": "display_data"
        }
      ],
      "source": [
        "log = []\n",
        "n_epochs = 50\n",
        "for i in trange(n_epochs):\n",
        "    train_loss, val_loss = train_epoch(model, train_dataloader, val_dataloader, feat, label, opt)\n",
        "    log.append([train_loss, val_loss])\n",
        "plt.plot(np.array(log))\n",
        "plt.title('Loss')\n",
        "plt.legend(['train', 'val'])\n",
        "plt.show()"
      ]
    },
    {
      "cell_type": "code",
      "execution_count": 124,
      "id": "9d0c16d2",
      "metadata": {
        "colab": {
          "base_uri": "https://localhost:8080/"
        },
        "deletable": false,
        "editable": false,
        "id": "9d0c16d2",
        "nbgrader": {
          "cell_type": "code",
          "checksum": "7c5bce0504893fe5753e233815f38af4",
          "grade": true,
          "grade_id": "cell-1f31b207a4f89e8f",
          "locked": true,
          "points": 1.5,
          "schema_version": 3,
          "solution": false,
          "task": false
        },
        "outputId": "e29b366d-ac71-4c08-9cfb-d74e05b75f6e"
      },
      "outputs": [
        {
          "name": "stdout",
          "output_type": "stream",
          "text": [
            "Balanced accuracy: 0.77\n"
          ]
        }
      ],
      "source": [
        "logits = []\n",
        "for input_nodes, output_nodes, mfgs in test_dataloader:\n",
        "    with torch.no_grad():\n",
        "        logits.append(model(mfgs, feat[input_nodes]))\n",
        "logits = torch.cat(logits)\n",
        "y_pred = torch.argmax(logits, 1)\n",
        "score = balanced_accuracy_score(label[test_mask], y_pred)\n",
        "assert score > 0.7\n",
        "print(f'Balanced accuracy: {score:.2f}')"
      ]
    },
    {
      "cell_type": "markdown",
      "id": "a34b61ca",
      "metadata": {
        "id": "a34b61ca"
      },
      "source": [
        "### References"
      ]
    },
    {
      "cell_type": "markdown",
      "id": "3073b8e0",
      "metadata": {
        "id": "3073b8e0"
      },
      "source": [
        "<a id='references'></a>\n",
        "\n",
        "[1] Kipf, T. N., & Welling, M. (2016). Semi-Supervised Classification with Graph Convolutional Networks. CoRR, abs/1609.02907. http://arxiv.org/abs/1609.02907\n",
        "\n",
        "[2] Gilmer, J., Schoenholz, S. S., Riley, P. F., Vinyals, O., & Dahl, G. E. (2017). Neural Message Passing for Quantum Chemistry. CoRR, abs/1704.01212. http://arxiv.org/abs/1704.01212\n",
        "\n",
        "[3] Kipf, T. N., & Welling, M. (2016). Variational Graph Auto-Encoders. arXiv. https://doi.org/10.48550/ARXIV.1611.07308\n",
        "\n",
        "[4] Simonovsky, M., & Komodakis, N. (2018). GraphVAE: Towards Generation of Small Graphs Using Variational Autoencoders. CoRR, abs/1802.03480. http://arxiv.org/abs/1802.03480\n",
        "\n",
        "[5] Veličković, P., Cucurull, G., Casanova, A., Romero, A., Liò, P., & Bengio, Y. (2017). Graph Attention Networks. arXiv. https://doi.org/10.48550/ARXIV.1710.10903\n",
        "\n",
        "[6] Vaswani, A., Shazeer, N., Parmar, N., Uszkoreit, J., Jones, L., Gomez, A. N., Kaiser, L., & Polosukhin, I. (2017). Attention Is All You Need. CoRR, abs/1706.03762. http://arxiv.org/abs/1706.03762\n",
        "\n",
        "[7] Hamilton, W. L., Ying, R., & Leskovec, J. (2017). Inductive Representation Learning on Large Graphs. CoRR, abs/1706.02216. http://arxiv.org/abs/1706.02216"
      ]
    },
    {
      "cell_type": "code",
      "execution_count": 124,
      "id": "12f86f8a",
      "metadata": {
        "id": "12f86f8a"
      },
      "outputs": [],
      "source": []
    }
  ],
  "metadata": {
    "colab": {
      "collapsed_sections": [
        "bc204875",
        "18597045",
        "5d0b89e8",
        "a294b8ad"
      ],
      "provenance": []
    },
    "kernelspec": {
      "display_name": "Python 3",
      "language": "python",
      "name": "python3"
    },
    "language_info": {
      "codemirror_mode": {
        "name": "ipython",
        "version": 3
      },
      "file_extension": ".py",
      "mimetype": "text/x-python",
      "name": "python",
      "nbconvert_exporter": "python",
      "pygments_lexer": "ipython3",
      "version": "3.9.13"
    },
    "widgets": {
      "application/vnd.jupyter.widget-state+json": {
        "006cbabb7c0e40f98a1dbf9fc355bf86": {
          "model_module": "@jupyter-widgets/controls",
          "model_module_version": "1.5.0",
          "model_name": "DescriptionStyleModel",
          "state": {
            "_model_module": "@jupyter-widgets/controls",
            "_model_module_version": "1.5.0",
            "_model_name": "DescriptionStyleModel",
            "_view_count": null,
            "_view_module": "@jupyter-widgets/base",
            "_view_module_version": "1.2.0",
            "_view_name": "StyleView",
            "description_width": ""
          }
        },
        "012eebae5513433a9d8e391b0e190197": {
          "model_module": "@jupyter-widgets/controls",
          "model_module_version": "1.5.0",
          "model_name": "DescriptionStyleModel",
          "state": {
            "_model_module": "@jupyter-widgets/controls",
            "_model_module_version": "1.5.0",
            "_model_name": "DescriptionStyleModel",
            "_view_count": null,
            "_view_module": "@jupyter-widgets/base",
            "_view_module_version": "1.2.0",
            "_view_name": "StyleView",
            "description_width": ""
          }
        },
        "0362a60cf82a472aa62b478b0a8455b6": {
          "model_module": "@jupyter-widgets/controls",
          "model_module_version": "1.5.0",
          "model_name": "HTMLModel",
          "state": {
            "_dom_classes": [],
            "_model_module": "@jupyter-widgets/controls",
            "_model_module_version": "1.5.0",
            "_model_name": "HTMLModel",
            "_view_count": null,
            "_view_module": "@jupyter-widgets/controls",
            "_view_module_version": "1.5.0",
            "_view_name": "HTMLView",
            "description": "",
            "description_tooltip": null,
            "layout": "IPY_MODEL_f000b44745664155bbef36d07cf8605f",
            "placeholder": "​",
            "style": "IPY_MODEL_899323d64ac14b4da5e7ba478f9ec9e2",
            "value": " 400/400 [01:17&lt;00:00,  5.46it/s]"
          }
        },
        "05877609cfd74820a5b29c9824996149": {
          "model_module": "@jupyter-widgets/controls",
          "model_module_version": "1.5.0",
          "model_name": "FloatProgressModel",
          "state": {
            "_dom_classes": [],
            "_model_module": "@jupyter-widgets/controls",
            "_model_module_version": "1.5.0",
            "_model_name": "FloatProgressModel",
            "_view_count": null,
            "_view_module": "@jupyter-widgets/controls",
            "_view_module_version": "1.5.0",
            "_view_name": "ProgressView",
            "bar_style": "success",
            "description": "",
            "description_tooltip": null,
            "layout": "IPY_MODEL_c9e99d0aae1540b7bbcd83f58f404a8e",
            "max": 400,
            "min": 0,
            "orientation": "horizontal",
            "style": "IPY_MODEL_50afe748817f4023b968dcef138dd698",
            "value": 400
          }
        },
        "098a5636cc06494a8020f595855c3bb9": {
          "model_module": "@jupyter-widgets/controls",
          "model_module_version": "1.5.0",
          "model_name": "DescriptionStyleModel",
          "state": {
            "_model_module": "@jupyter-widgets/controls",
            "_model_module_version": "1.5.0",
            "_model_name": "DescriptionStyleModel",
            "_view_count": null,
            "_view_module": "@jupyter-widgets/base",
            "_view_module_version": "1.2.0",
            "_view_name": "StyleView",
            "description_width": ""
          }
        },
        "0b8dfebdf2e24b2c8c3056ea30d5520d": {
          "model_module": "@jupyter-widgets/base",
          "model_module_version": "1.2.0",
          "model_name": "LayoutModel",
          "state": {
            "_model_module": "@jupyter-widgets/base",
            "_model_module_version": "1.2.0",
            "_model_name": "LayoutModel",
            "_view_count": null,
            "_view_module": "@jupyter-widgets/base",
            "_view_module_version": "1.2.0",
            "_view_name": "LayoutView",
            "align_content": null,
            "align_items": null,
            "align_self": null,
            "border": null,
            "bottom": null,
            "display": null,
            "flex": null,
            "flex_flow": null,
            "grid_area": null,
            "grid_auto_columns": null,
            "grid_auto_flow": null,
            "grid_auto_rows": null,
            "grid_column": null,
            "grid_gap": null,
            "grid_row": null,
            "grid_template_areas": null,
            "grid_template_columns": null,
            "grid_template_rows": null,
            "height": null,
            "justify_content": null,
            "justify_items": null,
            "left": null,
            "margin": null,
            "max_height": null,
            "max_width": null,
            "min_height": null,
            "min_width": null,
            "object_fit": null,
            "object_position": null,
            "order": null,
            "overflow": null,
            "overflow_x": null,
            "overflow_y": null,
            "padding": null,
            "right": null,
            "top": null,
            "visibility": null,
            "width": null
          }
        },
        "0c548ed487dd4eacb02db4ef74664dfb": {
          "model_module": "@jupyter-widgets/controls",
          "model_module_version": "1.5.0",
          "model_name": "HTMLModel",
          "state": {
            "_dom_classes": [],
            "_model_module": "@jupyter-widgets/controls",
            "_model_module_version": "1.5.0",
            "_model_name": "HTMLModel",
            "_view_count": null,
            "_view_module": "@jupyter-widgets/controls",
            "_view_module_version": "1.5.0",
            "_view_name": "HTMLView",
            "description": "",
            "description_tooltip": null,
            "layout": "IPY_MODEL_4745ab5f81e949be9a0913e3bc2b1b0d",
            "placeholder": "​",
            "style": "IPY_MODEL_1d8d5b7a970547cca24747a463176a17",
            "value": "100%"
          }
        },
        "1924dfd60f5c4159bb733823622a8c09": {
          "model_module": "@jupyter-widgets/controls",
          "model_module_version": "1.5.0",
          "model_name": "HBoxModel",
          "state": {
            "_dom_classes": [],
            "_model_module": "@jupyter-widgets/controls",
            "_model_module_version": "1.5.0",
            "_model_name": "HBoxModel",
            "_view_count": null,
            "_view_module": "@jupyter-widgets/controls",
            "_view_module_version": "1.5.0",
            "_view_name": "HBoxView",
            "box_style": "",
            "children": [
              "IPY_MODEL_0c548ed487dd4eacb02db4ef74664dfb",
              "IPY_MODEL_a6f9c0bbdd7b44da9b8361c9a8147527",
              "IPY_MODEL_6abfaecf5a044cb180f5704bb8697499"
            ],
            "layout": "IPY_MODEL_b241573d39964d83843bde2c22324cc1"
          }
        },
        "1d8d5b7a970547cca24747a463176a17": {
          "model_module": "@jupyter-widgets/controls",
          "model_module_version": "1.5.0",
          "model_name": "DescriptionStyleModel",
          "state": {
            "_model_module": "@jupyter-widgets/controls",
            "_model_module_version": "1.5.0",
            "_model_name": "DescriptionStyleModel",
            "_view_count": null,
            "_view_module": "@jupyter-widgets/base",
            "_view_module_version": "1.2.0",
            "_view_name": "StyleView",
            "description_width": ""
          }
        },
        "2323f99445af4692adaf3cc10445ee23": {
          "model_module": "@jupyter-widgets/base",
          "model_module_version": "1.2.0",
          "model_name": "LayoutModel",
          "state": {
            "_model_module": "@jupyter-widgets/base",
            "_model_module_version": "1.2.0",
            "_model_name": "LayoutModel",
            "_view_count": null,
            "_view_module": "@jupyter-widgets/base",
            "_view_module_version": "1.2.0",
            "_view_name": "LayoutView",
            "align_content": null,
            "align_items": null,
            "align_self": null,
            "border": null,
            "bottom": null,
            "display": null,
            "flex": null,
            "flex_flow": null,
            "grid_area": null,
            "grid_auto_columns": null,
            "grid_auto_flow": null,
            "grid_auto_rows": null,
            "grid_column": null,
            "grid_gap": null,
            "grid_row": null,
            "grid_template_areas": null,
            "grid_template_columns": null,
            "grid_template_rows": null,
            "height": null,
            "justify_content": null,
            "justify_items": null,
            "left": null,
            "margin": null,
            "max_height": null,
            "max_width": null,
            "min_height": null,
            "min_width": null,
            "object_fit": null,
            "object_position": null,
            "order": null,
            "overflow": null,
            "overflow_x": null,
            "overflow_y": null,
            "padding": null,
            "right": null,
            "top": null,
            "visibility": null,
            "width": null
          }
        },
        "23ca0df2643946b281162979e6766e82": {
          "model_module": "@jupyter-widgets/controls",
          "model_module_version": "1.5.0",
          "model_name": "FloatProgressModel",
          "state": {
            "_dom_classes": [],
            "_model_module": "@jupyter-widgets/controls",
            "_model_module_version": "1.5.0",
            "_model_name": "FloatProgressModel",
            "_view_count": null,
            "_view_module": "@jupyter-widgets/controls",
            "_view_module_version": "1.5.0",
            "_view_name": "ProgressView",
            "bar_style": "success",
            "description": "",
            "description_tooltip": null,
            "layout": "IPY_MODEL_0b8dfebdf2e24b2c8c3056ea30d5520d",
            "max": 120,
            "min": 0,
            "orientation": "horizontal",
            "style": "IPY_MODEL_bf5f2e6a61114562b9a807f7b0aeb78c",
            "value": 120
          }
        },
        "268ea840bc7645bfb4bffd03896dee4f": {
          "model_module": "@jupyter-widgets/controls",
          "model_module_version": "1.5.0",
          "model_name": "ProgressStyleModel",
          "state": {
            "_model_module": "@jupyter-widgets/controls",
            "_model_module_version": "1.5.0",
            "_model_name": "ProgressStyleModel",
            "_view_count": null,
            "_view_module": "@jupyter-widgets/base",
            "_view_module_version": "1.2.0",
            "_view_name": "StyleView",
            "bar_color": null,
            "description_width": ""
          }
        },
        "299e06f4a2324f28bc19c8e274b10444": {
          "model_module": "@jupyter-widgets/controls",
          "model_module_version": "1.5.0",
          "model_name": "HBoxModel",
          "state": {
            "_dom_classes": [],
            "_model_module": "@jupyter-widgets/controls",
            "_model_module_version": "1.5.0",
            "_model_name": "HBoxModel",
            "_view_count": null,
            "_view_module": "@jupyter-widgets/controls",
            "_view_module_version": "1.5.0",
            "_view_name": "HBoxView",
            "box_style": "",
            "children": [
              "IPY_MODEL_bbd33ee9fb004f239f39795a1dda2f6b",
              "IPY_MODEL_23ca0df2643946b281162979e6766e82",
              "IPY_MODEL_dcdeab40b93c4184b58882e70ef6a249"
            ],
            "layout": "IPY_MODEL_73d265cd84da4682b0b13a7194d9a883"
          }
        },
        "2f05d8fa081f427e9a17c28e5e45dd20": {
          "model_module": "@jupyter-widgets/controls",
          "model_module_version": "1.5.0",
          "model_name": "HTMLModel",
          "state": {
            "_dom_classes": [],
            "_model_module": "@jupyter-widgets/controls",
            "_model_module_version": "1.5.0",
            "_model_name": "HTMLModel",
            "_view_count": null,
            "_view_module": "@jupyter-widgets/controls",
            "_view_module_version": "1.5.0",
            "_view_name": "HTMLView",
            "description": "",
            "description_tooltip": null,
            "layout": "IPY_MODEL_c0d1925aafab433d97497917f4aca58d",
            "placeholder": "​",
            "style": "IPY_MODEL_3dba912dbffe4c3fae318e15c7992405",
            "value": " 200/200 [00:04&lt;00:00, 48.97it/s]"
          }
        },
        "3b90c1031d7d4d56802e3530fdf06f13": {
          "model_module": "@jupyter-widgets/base",
          "model_module_version": "1.2.0",
          "model_name": "LayoutModel",
          "state": {
            "_model_module": "@jupyter-widgets/base",
            "_model_module_version": "1.2.0",
            "_model_name": "LayoutModel",
            "_view_count": null,
            "_view_module": "@jupyter-widgets/base",
            "_view_module_version": "1.2.0",
            "_view_name": "LayoutView",
            "align_content": null,
            "align_items": null,
            "align_self": null,
            "border": null,
            "bottom": null,
            "display": null,
            "flex": null,
            "flex_flow": null,
            "grid_area": null,
            "grid_auto_columns": null,
            "grid_auto_flow": null,
            "grid_auto_rows": null,
            "grid_column": null,
            "grid_gap": null,
            "grid_row": null,
            "grid_template_areas": null,
            "grid_template_columns": null,
            "grid_template_rows": null,
            "height": null,
            "justify_content": null,
            "justify_items": null,
            "left": null,
            "margin": null,
            "max_height": null,
            "max_width": null,
            "min_height": null,
            "min_width": null,
            "object_fit": null,
            "object_position": null,
            "order": null,
            "overflow": null,
            "overflow_x": null,
            "overflow_y": null,
            "padding": null,
            "right": null,
            "top": null,
            "visibility": null,
            "width": null
          }
        },
        "3dba912dbffe4c3fae318e15c7992405": {
          "model_module": "@jupyter-widgets/controls",
          "model_module_version": "1.5.0",
          "model_name": "DescriptionStyleModel",
          "state": {
            "_model_module": "@jupyter-widgets/controls",
            "_model_module_version": "1.5.0",
            "_model_name": "DescriptionStyleModel",
            "_view_count": null,
            "_view_module": "@jupyter-widgets/base",
            "_view_module_version": "1.2.0",
            "_view_name": "StyleView",
            "description_width": ""
          }
        },
        "427e23a53bc8432096fa51c1ce061ea2": {
          "model_module": "@jupyter-widgets/controls",
          "model_module_version": "1.5.0",
          "model_name": "HBoxModel",
          "state": {
            "_dom_classes": [],
            "_model_module": "@jupyter-widgets/controls",
            "_model_module_version": "1.5.0",
            "_model_name": "HBoxModel",
            "_view_count": null,
            "_view_module": "@jupyter-widgets/controls",
            "_view_module_version": "1.5.0",
            "_view_name": "HBoxView",
            "box_style": "",
            "children": [
              "IPY_MODEL_a1723178a93646e6a1b11d21526c2448",
              "IPY_MODEL_8844c588caeb4b529fcf5fc1a81c1dd7",
              "IPY_MODEL_a11e2f7e50c744af91920ee5ffca2a58"
            ],
            "layout": "IPY_MODEL_9a16d38e4d634428a416a0ec231e12a2"
          }
        },
        "4745ab5f81e949be9a0913e3bc2b1b0d": {
          "model_module": "@jupyter-widgets/base",
          "model_module_version": "1.2.0",
          "model_name": "LayoutModel",
          "state": {
            "_model_module": "@jupyter-widgets/base",
            "_model_module_version": "1.2.0",
            "_model_name": "LayoutModel",
            "_view_count": null,
            "_view_module": "@jupyter-widgets/base",
            "_view_module_version": "1.2.0",
            "_view_name": "LayoutView",
            "align_content": null,
            "align_items": null,
            "align_self": null,
            "border": null,
            "bottom": null,
            "display": null,
            "flex": null,
            "flex_flow": null,
            "grid_area": null,
            "grid_auto_columns": null,
            "grid_auto_flow": null,
            "grid_auto_rows": null,
            "grid_column": null,
            "grid_gap": null,
            "grid_row": null,
            "grid_template_areas": null,
            "grid_template_columns": null,
            "grid_template_rows": null,
            "height": null,
            "justify_content": null,
            "justify_items": null,
            "left": null,
            "margin": null,
            "max_height": null,
            "max_width": null,
            "min_height": null,
            "min_width": null,
            "object_fit": null,
            "object_position": null,
            "order": null,
            "overflow": null,
            "overflow_x": null,
            "overflow_y": null,
            "padding": null,
            "right": null,
            "top": null,
            "visibility": null,
            "width": null
          }
        },
        "48a73d63b06648bf941e0447c7d601cd": {
          "model_module": "@jupyter-widgets/base",
          "model_module_version": "1.2.0",
          "model_name": "LayoutModel",
          "state": {
            "_model_module": "@jupyter-widgets/base",
            "_model_module_version": "1.2.0",
            "_model_name": "LayoutModel",
            "_view_count": null,
            "_view_module": "@jupyter-widgets/base",
            "_view_module_version": "1.2.0",
            "_view_name": "LayoutView",
            "align_content": null,
            "align_items": null,
            "align_self": null,
            "border": null,
            "bottom": null,
            "display": null,
            "flex": null,
            "flex_flow": null,
            "grid_area": null,
            "grid_auto_columns": null,
            "grid_auto_flow": null,
            "grid_auto_rows": null,
            "grid_column": null,
            "grid_gap": null,
            "grid_row": null,
            "grid_template_areas": null,
            "grid_template_columns": null,
            "grid_template_rows": null,
            "height": null,
            "justify_content": null,
            "justify_items": null,
            "left": null,
            "margin": null,
            "max_height": null,
            "max_width": null,
            "min_height": null,
            "min_width": null,
            "object_fit": null,
            "object_position": null,
            "order": null,
            "overflow": null,
            "overflow_x": null,
            "overflow_y": null,
            "padding": null,
            "right": null,
            "top": null,
            "visibility": null,
            "width": null
          }
        },
        "50afe748817f4023b968dcef138dd698": {
          "model_module": "@jupyter-widgets/controls",
          "model_module_version": "1.5.0",
          "model_name": "ProgressStyleModel",
          "state": {
            "_model_module": "@jupyter-widgets/controls",
            "_model_module_version": "1.5.0",
            "_model_name": "ProgressStyleModel",
            "_view_count": null,
            "_view_module": "@jupyter-widgets/base",
            "_view_module_version": "1.2.0",
            "_view_name": "StyleView",
            "bar_color": null,
            "description_width": ""
          }
        },
        "52b5ae229f38458ba28a187558a42c80": {
          "model_module": "@jupyter-widgets/base",
          "model_module_version": "1.2.0",
          "model_name": "LayoutModel",
          "state": {
            "_model_module": "@jupyter-widgets/base",
            "_model_module_version": "1.2.0",
            "_model_name": "LayoutModel",
            "_view_count": null,
            "_view_module": "@jupyter-widgets/base",
            "_view_module_version": "1.2.0",
            "_view_name": "LayoutView",
            "align_content": null,
            "align_items": null,
            "align_self": null,
            "border": null,
            "bottom": null,
            "display": null,
            "flex": null,
            "flex_flow": null,
            "grid_area": null,
            "grid_auto_columns": null,
            "grid_auto_flow": null,
            "grid_auto_rows": null,
            "grid_column": null,
            "grid_gap": null,
            "grid_row": null,
            "grid_template_areas": null,
            "grid_template_columns": null,
            "grid_template_rows": null,
            "height": null,
            "justify_content": null,
            "justify_items": null,
            "left": null,
            "margin": null,
            "max_height": null,
            "max_width": null,
            "min_height": null,
            "min_width": null,
            "object_fit": null,
            "object_position": null,
            "order": null,
            "overflow": null,
            "overflow_x": null,
            "overflow_y": null,
            "padding": null,
            "right": null,
            "top": null,
            "visibility": null,
            "width": null
          }
        },
        "653fbed574de4f8fa4a3b46f97aab917": {
          "model_module": "@jupyter-widgets/controls",
          "model_module_version": "1.5.0",
          "model_name": "DescriptionStyleModel",
          "state": {
            "_model_module": "@jupyter-widgets/controls",
            "_model_module_version": "1.5.0",
            "_model_name": "DescriptionStyleModel",
            "_view_count": null,
            "_view_module": "@jupyter-widgets/base",
            "_view_module_version": "1.2.0",
            "_view_name": "StyleView",
            "description_width": ""
          }
        },
        "6abfaecf5a044cb180f5704bb8697499": {
          "model_module": "@jupyter-widgets/controls",
          "model_module_version": "1.5.0",
          "model_name": "HTMLModel",
          "state": {
            "_dom_classes": [],
            "_model_module": "@jupyter-widgets/controls",
            "_model_module_version": "1.5.0",
            "_model_name": "HTMLModel",
            "_view_count": null,
            "_view_module": "@jupyter-widgets/controls",
            "_view_module_version": "1.5.0",
            "_view_name": "HTMLView",
            "description": "",
            "description_tooltip": null,
            "layout": "IPY_MODEL_6eabfc22b5044bc5975cde4be81a5425",
            "placeholder": "​",
            "style": "IPY_MODEL_b57a0b0ad41d419caa536378d822bcc0",
            "value": " 200/200 [00:45&lt;00:00,  5.73it/s]"
          }
        },
        "6eabfc22b5044bc5975cde4be81a5425": {
          "model_module": "@jupyter-widgets/base",
          "model_module_version": "1.2.0",
          "model_name": "LayoutModel",
          "state": {
            "_model_module": "@jupyter-widgets/base",
            "_model_module_version": "1.2.0",
            "_model_name": "LayoutModel",
            "_view_count": null,
            "_view_module": "@jupyter-widgets/base",
            "_view_module_version": "1.2.0",
            "_view_name": "LayoutView",
            "align_content": null,
            "align_items": null,
            "align_self": null,
            "border": null,
            "bottom": null,
            "display": null,
            "flex": null,
            "flex_flow": null,
            "grid_area": null,
            "grid_auto_columns": null,
            "grid_auto_flow": null,
            "grid_auto_rows": null,
            "grid_column": null,
            "grid_gap": null,
            "grid_row": null,
            "grid_template_areas": null,
            "grid_template_columns": null,
            "grid_template_rows": null,
            "height": null,
            "justify_content": null,
            "justify_items": null,
            "left": null,
            "margin": null,
            "max_height": null,
            "max_width": null,
            "min_height": null,
            "min_width": null,
            "object_fit": null,
            "object_position": null,
            "order": null,
            "overflow": null,
            "overflow_x": null,
            "overflow_y": null,
            "padding": null,
            "right": null,
            "top": null,
            "visibility": null,
            "width": null
          }
        },
        "73d265cd84da4682b0b13a7194d9a883": {
          "model_module": "@jupyter-widgets/base",
          "model_module_version": "1.2.0",
          "model_name": "LayoutModel",
          "state": {
            "_model_module": "@jupyter-widgets/base",
            "_model_module_version": "1.2.0",
            "_model_name": "LayoutModel",
            "_view_count": null,
            "_view_module": "@jupyter-widgets/base",
            "_view_module_version": "1.2.0",
            "_view_name": "LayoutView",
            "align_content": null,
            "align_items": null,
            "align_self": null,
            "border": null,
            "bottom": null,
            "display": null,
            "flex": null,
            "flex_flow": null,
            "grid_area": null,
            "grid_auto_columns": null,
            "grid_auto_flow": null,
            "grid_auto_rows": null,
            "grid_column": null,
            "grid_gap": null,
            "grid_row": null,
            "grid_template_areas": null,
            "grid_template_columns": null,
            "grid_template_rows": null,
            "height": null,
            "justify_content": null,
            "justify_items": null,
            "left": null,
            "margin": null,
            "max_height": null,
            "max_width": null,
            "min_height": null,
            "min_width": null,
            "object_fit": null,
            "object_position": null,
            "order": null,
            "overflow": null,
            "overflow_x": null,
            "overflow_y": null,
            "padding": null,
            "right": null,
            "top": null,
            "visibility": null,
            "width": null
          }
        },
        "8186c12109a44889a2f5398778496dc9": {
          "model_module": "@jupyter-widgets/base",
          "model_module_version": "1.2.0",
          "model_name": "LayoutModel",
          "state": {
            "_model_module": "@jupyter-widgets/base",
            "_model_module_version": "1.2.0",
            "_model_name": "LayoutModel",
            "_view_count": null,
            "_view_module": "@jupyter-widgets/base",
            "_view_module_version": "1.2.0",
            "_view_name": "LayoutView",
            "align_content": null,
            "align_items": null,
            "align_self": null,
            "border": null,
            "bottom": null,
            "display": null,
            "flex": null,
            "flex_flow": null,
            "grid_area": null,
            "grid_auto_columns": null,
            "grid_auto_flow": null,
            "grid_auto_rows": null,
            "grid_column": null,
            "grid_gap": null,
            "grid_row": null,
            "grid_template_areas": null,
            "grid_template_columns": null,
            "grid_template_rows": null,
            "height": null,
            "justify_content": null,
            "justify_items": null,
            "left": null,
            "margin": null,
            "max_height": null,
            "max_width": null,
            "min_height": null,
            "min_width": null,
            "object_fit": null,
            "object_position": null,
            "order": null,
            "overflow": null,
            "overflow_x": null,
            "overflow_y": null,
            "padding": null,
            "right": null,
            "top": null,
            "visibility": null,
            "width": null
          }
        },
        "8844c588caeb4b529fcf5fc1a81c1dd7": {
          "model_module": "@jupyter-widgets/controls",
          "model_module_version": "1.5.0",
          "model_name": "FloatProgressModel",
          "state": {
            "_dom_classes": [],
            "_model_module": "@jupyter-widgets/controls",
            "_model_module_version": "1.5.0",
            "_model_name": "FloatProgressModel",
            "_view_count": null,
            "_view_module": "@jupyter-widgets/controls",
            "_view_module_version": "1.5.0",
            "_view_name": "ProgressView",
            "bar_style": "success",
            "description": "",
            "description_tooltip": null,
            "layout": "IPY_MODEL_dd4f2205861743cc971e53cbd1cf1439",
            "max": 50,
            "min": 0,
            "orientation": "horizontal",
            "style": "IPY_MODEL_268ea840bc7645bfb4bffd03896dee4f",
            "value": 50
          }
        },
        "899323d64ac14b4da5e7ba478f9ec9e2": {
          "model_module": "@jupyter-widgets/controls",
          "model_module_version": "1.5.0",
          "model_name": "DescriptionStyleModel",
          "state": {
            "_model_module": "@jupyter-widgets/controls",
            "_model_module_version": "1.5.0",
            "_model_name": "DescriptionStyleModel",
            "_view_count": null,
            "_view_module": "@jupyter-widgets/base",
            "_view_module_version": "1.2.0",
            "_view_name": "StyleView",
            "description_width": ""
          }
        },
        "9a16d38e4d634428a416a0ec231e12a2": {
          "model_module": "@jupyter-widgets/base",
          "model_module_version": "1.2.0",
          "model_name": "LayoutModel",
          "state": {
            "_model_module": "@jupyter-widgets/base",
            "_model_module_version": "1.2.0",
            "_model_name": "LayoutModel",
            "_view_count": null,
            "_view_module": "@jupyter-widgets/base",
            "_view_module_version": "1.2.0",
            "_view_name": "LayoutView",
            "align_content": null,
            "align_items": null,
            "align_self": null,
            "border": null,
            "bottom": null,
            "display": null,
            "flex": null,
            "flex_flow": null,
            "grid_area": null,
            "grid_auto_columns": null,
            "grid_auto_flow": null,
            "grid_auto_rows": null,
            "grid_column": null,
            "grid_gap": null,
            "grid_row": null,
            "grid_template_areas": null,
            "grid_template_columns": null,
            "grid_template_rows": null,
            "height": null,
            "justify_content": null,
            "justify_items": null,
            "left": null,
            "margin": null,
            "max_height": null,
            "max_width": null,
            "min_height": null,
            "min_width": null,
            "object_fit": null,
            "object_position": null,
            "order": null,
            "overflow": null,
            "overflow_x": null,
            "overflow_y": null,
            "padding": null,
            "right": null,
            "top": null,
            "visibility": null,
            "width": null
          }
        },
        "9e1fa0db951f45d1985298b55e003968": {
          "model_module": "@jupyter-widgets/controls",
          "model_module_version": "1.5.0",
          "model_name": "DescriptionStyleModel",
          "state": {
            "_model_module": "@jupyter-widgets/controls",
            "_model_module_version": "1.5.0",
            "_model_name": "DescriptionStyleModel",
            "_view_count": null,
            "_view_module": "@jupyter-widgets/base",
            "_view_module_version": "1.2.0",
            "_view_name": "StyleView",
            "description_width": ""
          }
        },
        "a11e2f7e50c744af91920ee5ffca2a58": {
          "model_module": "@jupyter-widgets/controls",
          "model_module_version": "1.5.0",
          "model_name": "HTMLModel",
          "state": {
            "_dom_classes": [],
            "_model_module": "@jupyter-widgets/controls",
            "_model_module_version": "1.5.0",
            "_model_name": "HTMLModel",
            "_view_count": null,
            "_view_module": "@jupyter-widgets/controls",
            "_view_module_version": "1.5.0",
            "_view_name": "HTMLView",
            "description": "",
            "description_tooltip": null,
            "layout": "IPY_MODEL_8186c12109a44889a2f5398778496dc9",
            "placeholder": "​",
            "style": "IPY_MODEL_006cbabb7c0e40f98a1dbf9fc355bf86",
            "value": " 50/50 [00:03&lt;00:00, 13.16it/s]"
          }
        },
        "a1723178a93646e6a1b11d21526c2448": {
          "model_module": "@jupyter-widgets/controls",
          "model_module_version": "1.5.0",
          "model_name": "HTMLModel",
          "state": {
            "_dom_classes": [],
            "_model_module": "@jupyter-widgets/controls",
            "_model_module_version": "1.5.0",
            "_model_name": "HTMLModel",
            "_view_count": null,
            "_view_module": "@jupyter-widgets/controls",
            "_view_module_version": "1.5.0",
            "_view_name": "HTMLView",
            "description": "",
            "description_tooltip": null,
            "layout": "IPY_MODEL_d523466d7c5a413fbe13e6df453cdedf",
            "placeholder": "​",
            "style": "IPY_MODEL_012eebae5513433a9d8e391b0e190197",
            "value": "100%"
          }
        },
        "a31b11d3bd7445c58b98544423eda9f4": {
          "model_module": "@jupyter-widgets/controls",
          "model_module_version": "1.5.0",
          "model_name": "HTMLModel",
          "state": {
            "_dom_classes": [],
            "_model_module": "@jupyter-widgets/controls",
            "_model_module_version": "1.5.0",
            "_model_name": "HTMLModel",
            "_view_count": null,
            "_view_module": "@jupyter-widgets/controls",
            "_view_module_version": "1.5.0",
            "_view_name": "HTMLView",
            "description": "",
            "description_tooltip": null,
            "layout": "IPY_MODEL_b6b730d191d64d8880b9552c407e7934",
            "placeholder": "​",
            "style": "IPY_MODEL_9e1fa0db951f45d1985298b55e003968",
            "value": "100%"
          }
        },
        "a6f9c0bbdd7b44da9b8361c9a8147527": {
          "model_module": "@jupyter-widgets/controls",
          "model_module_version": "1.5.0",
          "model_name": "FloatProgressModel",
          "state": {
            "_dom_classes": [],
            "_model_module": "@jupyter-widgets/controls",
            "_model_module_version": "1.5.0",
            "_model_name": "FloatProgressModel",
            "_view_count": null,
            "_view_module": "@jupyter-widgets/controls",
            "_view_module_version": "1.5.0",
            "_view_name": "ProgressView",
            "bar_style": "success",
            "description": "",
            "description_tooltip": null,
            "layout": "IPY_MODEL_aa3877cac5d648aea7133df8ea74c993",
            "max": 200,
            "min": 0,
            "orientation": "horizontal",
            "style": "IPY_MODEL_e8bfbb37c32345e2a4e99a9cad3ea4d3",
            "value": 200
          }
        },
        "aa3877cac5d648aea7133df8ea74c993": {
          "model_module": "@jupyter-widgets/base",
          "model_module_version": "1.2.0",
          "model_name": "LayoutModel",
          "state": {
            "_model_module": "@jupyter-widgets/base",
            "_model_module_version": "1.2.0",
            "_model_name": "LayoutModel",
            "_view_count": null,
            "_view_module": "@jupyter-widgets/base",
            "_view_module_version": "1.2.0",
            "_view_name": "LayoutView",
            "align_content": null,
            "align_items": null,
            "align_self": null,
            "border": null,
            "bottom": null,
            "display": null,
            "flex": null,
            "flex_flow": null,
            "grid_area": null,
            "grid_auto_columns": null,
            "grid_auto_flow": null,
            "grid_auto_rows": null,
            "grid_column": null,
            "grid_gap": null,
            "grid_row": null,
            "grid_template_areas": null,
            "grid_template_columns": null,
            "grid_template_rows": null,
            "height": null,
            "justify_content": null,
            "justify_items": null,
            "left": null,
            "margin": null,
            "max_height": null,
            "max_width": null,
            "min_height": null,
            "min_width": null,
            "object_fit": null,
            "object_position": null,
            "order": null,
            "overflow": null,
            "overflow_x": null,
            "overflow_y": null,
            "padding": null,
            "right": null,
            "top": null,
            "visibility": null,
            "width": null
          }
        },
        "ad9e9275b1154cbcb9804414e09b1161": {
          "model_module": "@jupyter-widgets/controls",
          "model_module_version": "1.5.0",
          "model_name": "HTMLModel",
          "state": {
            "_dom_classes": [],
            "_model_module": "@jupyter-widgets/controls",
            "_model_module_version": "1.5.0",
            "_model_name": "HTMLModel",
            "_view_count": null,
            "_view_module": "@jupyter-widgets/controls",
            "_view_module_version": "1.5.0",
            "_view_name": "HTMLView",
            "description": "",
            "description_tooltip": null,
            "layout": "IPY_MODEL_52b5ae229f38458ba28a187558a42c80",
            "placeholder": "​",
            "style": "IPY_MODEL_fbc8eaa9fd0e4911a5bfd6267d44d5df",
            "value": "100%"
          }
        },
        "affd43ac0a8c427d8c83e4925e93abf0": {
          "model_module": "@jupyter-widgets/base",
          "model_module_version": "1.2.0",
          "model_name": "LayoutModel",
          "state": {
            "_model_module": "@jupyter-widgets/base",
            "_model_module_version": "1.2.0",
            "_model_name": "LayoutModel",
            "_view_count": null,
            "_view_module": "@jupyter-widgets/base",
            "_view_module_version": "1.2.0",
            "_view_name": "LayoutView",
            "align_content": null,
            "align_items": null,
            "align_self": null,
            "border": null,
            "bottom": null,
            "display": null,
            "flex": null,
            "flex_flow": null,
            "grid_area": null,
            "grid_auto_columns": null,
            "grid_auto_flow": null,
            "grid_auto_rows": null,
            "grid_column": null,
            "grid_gap": null,
            "grid_row": null,
            "grid_template_areas": null,
            "grid_template_columns": null,
            "grid_template_rows": null,
            "height": null,
            "justify_content": null,
            "justify_items": null,
            "left": null,
            "margin": null,
            "max_height": null,
            "max_width": null,
            "min_height": null,
            "min_width": null,
            "object_fit": null,
            "object_position": null,
            "order": null,
            "overflow": null,
            "overflow_x": null,
            "overflow_y": null,
            "padding": null,
            "right": null,
            "top": null,
            "visibility": null,
            "width": null
          }
        },
        "b241573d39964d83843bde2c22324cc1": {
          "model_module": "@jupyter-widgets/base",
          "model_module_version": "1.2.0",
          "model_name": "LayoutModel",
          "state": {
            "_model_module": "@jupyter-widgets/base",
            "_model_module_version": "1.2.0",
            "_model_name": "LayoutModel",
            "_view_count": null,
            "_view_module": "@jupyter-widgets/base",
            "_view_module_version": "1.2.0",
            "_view_name": "LayoutView",
            "align_content": null,
            "align_items": null,
            "align_self": null,
            "border": null,
            "bottom": null,
            "display": null,
            "flex": null,
            "flex_flow": null,
            "grid_area": null,
            "grid_auto_columns": null,
            "grid_auto_flow": null,
            "grid_auto_rows": null,
            "grid_column": null,
            "grid_gap": null,
            "grid_row": null,
            "grid_template_areas": null,
            "grid_template_columns": null,
            "grid_template_rows": null,
            "height": null,
            "justify_content": null,
            "justify_items": null,
            "left": null,
            "margin": null,
            "max_height": null,
            "max_width": null,
            "min_height": null,
            "min_width": null,
            "object_fit": null,
            "object_position": null,
            "order": null,
            "overflow": null,
            "overflow_x": null,
            "overflow_y": null,
            "padding": null,
            "right": null,
            "top": null,
            "visibility": null,
            "width": null
          }
        },
        "b57a0b0ad41d419caa536378d822bcc0": {
          "model_module": "@jupyter-widgets/controls",
          "model_module_version": "1.5.0",
          "model_name": "DescriptionStyleModel",
          "state": {
            "_model_module": "@jupyter-widgets/controls",
            "_model_module_version": "1.5.0",
            "_model_name": "DescriptionStyleModel",
            "_view_count": null,
            "_view_module": "@jupyter-widgets/base",
            "_view_module_version": "1.2.0",
            "_view_name": "StyleView",
            "description_width": ""
          }
        },
        "b6b730d191d64d8880b9552c407e7934": {
          "model_module": "@jupyter-widgets/base",
          "model_module_version": "1.2.0",
          "model_name": "LayoutModel",
          "state": {
            "_model_module": "@jupyter-widgets/base",
            "_model_module_version": "1.2.0",
            "_model_name": "LayoutModel",
            "_view_count": null,
            "_view_module": "@jupyter-widgets/base",
            "_view_module_version": "1.2.0",
            "_view_name": "LayoutView",
            "align_content": null,
            "align_items": null,
            "align_self": null,
            "border": null,
            "bottom": null,
            "display": null,
            "flex": null,
            "flex_flow": null,
            "grid_area": null,
            "grid_auto_columns": null,
            "grid_auto_flow": null,
            "grid_auto_rows": null,
            "grid_column": null,
            "grid_gap": null,
            "grid_row": null,
            "grid_template_areas": null,
            "grid_template_columns": null,
            "grid_template_rows": null,
            "height": null,
            "justify_content": null,
            "justify_items": null,
            "left": null,
            "margin": null,
            "max_height": null,
            "max_width": null,
            "min_height": null,
            "min_width": null,
            "object_fit": null,
            "object_position": null,
            "order": null,
            "overflow": null,
            "overflow_x": null,
            "overflow_y": null,
            "padding": null,
            "right": null,
            "top": null,
            "visibility": null,
            "width": null
          }
        },
        "bb2c3a8f1c5744489d2fc8ba8cb0f082": {
          "model_module": "@jupyter-widgets/controls",
          "model_module_version": "1.5.0",
          "model_name": "HBoxModel",
          "state": {
            "_dom_classes": [],
            "_model_module": "@jupyter-widgets/controls",
            "_model_module_version": "1.5.0",
            "_model_name": "HBoxModel",
            "_view_count": null,
            "_view_module": "@jupyter-widgets/controls",
            "_view_module_version": "1.5.0",
            "_view_name": "HBoxView",
            "box_style": "",
            "children": [
              "IPY_MODEL_a31b11d3bd7445c58b98544423eda9f4",
              "IPY_MODEL_05877609cfd74820a5b29c9824996149",
              "IPY_MODEL_0362a60cf82a472aa62b478b0a8455b6"
            ],
            "layout": "IPY_MODEL_48a73d63b06648bf941e0447c7d601cd"
          }
        },
        "bb4c65c38a834443b61d1ca8a452985b": {
          "model_module": "@jupyter-widgets/controls",
          "model_module_version": "1.5.0",
          "model_name": "HBoxModel",
          "state": {
            "_dom_classes": [],
            "_model_module": "@jupyter-widgets/controls",
            "_model_module_version": "1.5.0",
            "_model_name": "HBoxModel",
            "_view_count": null,
            "_view_module": "@jupyter-widgets/controls",
            "_view_module_version": "1.5.0",
            "_view_name": "HBoxView",
            "box_style": "",
            "children": [
              "IPY_MODEL_ad9e9275b1154cbcb9804414e09b1161",
              "IPY_MODEL_e92e074a24244435acb13e51e2dba04b",
              "IPY_MODEL_2f05d8fa081f427e9a17c28e5e45dd20"
            ],
            "layout": "IPY_MODEL_3b90c1031d7d4d56802e3530fdf06f13"
          }
        },
        "bbd33ee9fb004f239f39795a1dda2f6b": {
          "model_module": "@jupyter-widgets/controls",
          "model_module_version": "1.5.0",
          "model_name": "HTMLModel",
          "state": {
            "_dom_classes": [],
            "_model_module": "@jupyter-widgets/controls",
            "_model_module_version": "1.5.0",
            "_model_name": "HTMLModel",
            "_view_count": null,
            "_view_module": "@jupyter-widgets/controls",
            "_view_module_version": "1.5.0",
            "_view_name": "HTMLView",
            "description": "",
            "description_tooltip": null,
            "layout": "IPY_MODEL_ecd10caf39c84765be89c870e8710559",
            "placeholder": "​",
            "style": "IPY_MODEL_653fbed574de4f8fa4a3b46f97aab917",
            "value": "100%"
          }
        },
        "bf5f2e6a61114562b9a807f7b0aeb78c": {
          "model_module": "@jupyter-widgets/controls",
          "model_module_version": "1.5.0",
          "model_name": "ProgressStyleModel",
          "state": {
            "_model_module": "@jupyter-widgets/controls",
            "_model_module_version": "1.5.0",
            "_model_name": "ProgressStyleModel",
            "_view_count": null,
            "_view_module": "@jupyter-widgets/base",
            "_view_module_version": "1.2.0",
            "_view_name": "StyleView",
            "bar_color": null,
            "description_width": ""
          }
        },
        "c0d1925aafab433d97497917f4aca58d": {
          "model_module": "@jupyter-widgets/base",
          "model_module_version": "1.2.0",
          "model_name": "LayoutModel",
          "state": {
            "_model_module": "@jupyter-widgets/base",
            "_model_module_version": "1.2.0",
            "_model_name": "LayoutModel",
            "_view_count": null,
            "_view_module": "@jupyter-widgets/base",
            "_view_module_version": "1.2.0",
            "_view_name": "LayoutView",
            "align_content": null,
            "align_items": null,
            "align_self": null,
            "border": null,
            "bottom": null,
            "display": null,
            "flex": null,
            "flex_flow": null,
            "grid_area": null,
            "grid_auto_columns": null,
            "grid_auto_flow": null,
            "grid_auto_rows": null,
            "grid_column": null,
            "grid_gap": null,
            "grid_row": null,
            "grid_template_areas": null,
            "grid_template_columns": null,
            "grid_template_rows": null,
            "height": null,
            "justify_content": null,
            "justify_items": null,
            "left": null,
            "margin": null,
            "max_height": null,
            "max_width": null,
            "min_height": null,
            "min_width": null,
            "object_fit": null,
            "object_position": null,
            "order": null,
            "overflow": null,
            "overflow_x": null,
            "overflow_y": null,
            "padding": null,
            "right": null,
            "top": null,
            "visibility": null,
            "width": null
          }
        },
        "c9e99d0aae1540b7bbcd83f58f404a8e": {
          "model_module": "@jupyter-widgets/base",
          "model_module_version": "1.2.0",
          "model_name": "LayoutModel",
          "state": {
            "_model_module": "@jupyter-widgets/base",
            "_model_module_version": "1.2.0",
            "_model_name": "LayoutModel",
            "_view_count": null,
            "_view_module": "@jupyter-widgets/base",
            "_view_module_version": "1.2.0",
            "_view_name": "LayoutView",
            "align_content": null,
            "align_items": null,
            "align_self": null,
            "border": null,
            "bottom": null,
            "display": null,
            "flex": null,
            "flex_flow": null,
            "grid_area": null,
            "grid_auto_columns": null,
            "grid_auto_flow": null,
            "grid_auto_rows": null,
            "grid_column": null,
            "grid_gap": null,
            "grid_row": null,
            "grid_template_areas": null,
            "grid_template_columns": null,
            "grid_template_rows": null,
            "height": null,
            "justify_content": null,
            "justify_items": null,
            "left": null,
            "margin": null,
            "max_height": null,
            "max_width": null,
            "min_height": null,
            "min_width": null,
            "object_fit": null,
            "object_position": null,
            "order": null,
            "overflow": null,
            "overflow_x": null,
            "overflow_y": null,
            "padding": null,
            "right": null,
            "top": null,
            "visibility": null,
            "width": null
          }
        },
        "ca30695068dc470f9dde0abd517cd0af": {
          "model_module": "@jupyter-widgets/controls",
          "model_module_version": "1.5.0",
          "model_name": "ProgressStyleModel",
          "state": {
            "_model_module": "@jupyter-widgets/controls",
            "_model_module_version": "1.5.0",
            "_model_name": "ProgressStyleModel",
            "_view_count": null,
            "_view_module": "@jupyter-widgets/base",
            "_view_module_version": "1.2.0",
            "_view_name": "StyleView",
            "bar_color": null,
            "description_width": ""
          }
        },
        "d523466d7c5a413fbe13e6df453cdedf": {
          "model_module": "@jupyter-widgets/base",
          "model_module_version": "1.2.0",
          "model_name": "LayoutModel",
          "state": {
            "_model_module": "@jupyter-widgets/base",
            "_model_module_version": "1.2.0",
            "_model_name": "LayoutModel",
            "_view_count": null,
            "_view_module": "@jupyter-widgets/base",
            "_view_module_version": "1.2.0",
            "_view_name": "LayoutView",
            "align_content": null,
            "align_items": null,
            "align_self": null,
            "border": null,
            "bottom": null,
            "display": null,
            "flex": null,
            "flex_flow": null,
            "grid_area": null,
            "grid_auto_columns": null,
            "grid_auto_flow": null,
            "grid_auto_rows": null,
            "grid_column": null,
            "grid_gap": null,
            "grid_row": null,
            "grid_template_areas": null,
            "grid_template_columns": null,
            "grid_template_rows": null,
            "height": null,
            "justify_content": null,
            "justify_items": null,
            "left": null,
            "margin": null,
            "max_height": null,
            "max_width": null,
            "min_height": null,
            "min_width": null,
            "object_fit": null,
            "object_position": null,
            "order": null,
            "overflow": null,
            "overflow_x": null,
            "overflow_y": null,
            "padding": null,
            "right": null,
            "top": null,
            "visibility": null,
            "width": null
          }
        },
        "dcdeab40b93c4184b58882e70ef6a249": {
          "model_module": "@jupyter-widgets/controls",
          "model_module_version": "1.5.0",
          "model_name": "HTMLModel",
          "state": {
            "_dom_classes": [],
            "_model_module": "@jupyter-widgets/controls",
            "_model_module_version": "1.5.0",
            "_model_name": "HTMLModel",
            "_view_count": null,
            "_view_module": "@jupyter-widgets/controls",
            "_view_module_version": "1.5.0",
            "_view_name": "HTMLView",
            "description": "",
            "description_tooltip": null,
            "layout": "IPY_MODEL_affd43ac0a8c427d8c83e4925e93abf0",
            "placeholder": "​",
            "style": "IPY_MODEL_098a5636cc06494a8020f595855c3bb9",
            "value": " 120/120 [00:19&lt;00:00,  4.57it/s]"
          }
        },
        "dd4f2205861743cc971e53cbd1cf1439": {
          "model_module": "@jupyter-widgets/base",
          "model_module_version": "1.2.0",
          "model_name": "LayoutModel",
          "state": {
            "_model_module": "@jupyter-widgets/base",
            "_model_module_version": "1.2.0",
            "_model_name": "LayoutModel",
            "_view_count": null,
            "_view_module": "@jupyter-widgets/base",
            "_view_module_version": "1.2.0",
            "_view_name": "LayoutView",
            "align_content": null,
            "align_items": null,
            "align_self": null,
            "border": null,
            "bottom": null,
            "display": null,
            "flex": null,
            "flex_flow": null,
            "grid_area": null,
            "grid_auto_columns": null,
            "grid_auto_flow": null,
            "grid_auto_rows": null,
            "grid_column": null,
            "grid_gap": null,
            "grid_row": null,
            "grid_template_areas": null,
            "grid_template_columns": null,
            "grid_template_rows": null,
            "height": null,
            "justify_content": null,
            "justify_items": null,
            "left": null,
            "margin": null,
            "max_height": null,
            "max_width": null,
            "min_height": null,
            "min_width": null,
            "object_fit": null,
            "object_position": null,
            "order": null,
            "overflow": null,
            "overflow_x": null,
            "overflow_y": null,
            "padding": null,
            "right": null,
            "top": null,
            "visibility": null,
            "width": null
          }
        },
        "e8bfbb37c32345e2a4e99a9cad3ea4d3": {
          "model_module": "@jupyter-widgets/controls",
          "model_module_version": "1.5.0",
          "model_name": "ProgressStyleModel",
          "state": {
            "_model_module": "@jupyter-widgets/controls",
            "_model_module_version": "1.5.0",
            "_model_name": "ProgressStyleModel",
            "_view_count": null,
            "_view_module": "@jupyter-widgets/base",
            "_view_module_version": "1.2.0",
            "_view_name": "StyleView",
            "bar_color": null,
            "description_width": ""
          }
        },
        "e92e074a24244435acb13e51e2dba04b": {
          "model_module": "@jupyter-widgets/controls",
          "model_module_version": "1.5.0",
          "model_name": "FloatProgressModel",
          "state": {
            "_dom_classes": [],
            "_model_module": "@jupyter-widgets/controls",
            "_model_module_version": "1.5.0",
            "_model_name": "FloatProgressModel",
            "_view_count": null,
            "_view_module": "@jupyter-widgets/controls",
            "_view_module_version": "1.5.0",
            "_view_name": "ProgressView",
            "bar_style": "success",
            "description": "",
            "description_tooltip": null,
            "layout": "IPY_MODEL_2323f99445af4692adaf3cc10445ee23",
            "max": 200,
            "min": 0,
            "orientation": "horizontal",
            "style": "IPY_MODEL_ca30695068dc470f9dde0abd517cd0af",
            "value": 200
          }
        },
        "ecd10caf39c84765be89c870e8710559": {
          "model_module": "@jupyter-widgets/base",
          "model_module_version": "1.2.0",
          "model_name": "LayoutModel",
          "state": {
            "_model_module": "@jupyter-widgets/base",
            "_model_module_version": "1.2.0",
            "_model_name": "LayoutModel",
            "_view_count": null,
            "_view_module": "@jupyter-widgets/base",
            "_view_module_version": "1.2.0",
            "_view_name": "LayoutView",
            "align_content": null,
            "align_items": null,
            "align_self": null,
            "border": null,
            "bottom": null,
            "display": null,
            "flex": null,
            "flex_flow": null,
            "grid_area": null,
            "grid_auto_columns": null,
            "grid_auto_flow": null,
            "grid_auto_rows": null,
            "grid_column": null,
            "grid_gap": null,
            "grid_row": null,
            "grid_template_areas": null,
            "grid_template_columns": null,
            "grid_template_rows": null,
            "height": null,
            "justify_content": null,
            "justify_items": null,
            "left": null,
            "margin": null,
            "max_height": null,
            "max_width": null,
            "min_height": null,
            "min_width": null,
            "object_fit": null,
            "object_position": null,
            "order": null,
            "overflow": null,
            "overflow_x": null,
            "overflow_y": null,
            "padding": null,
            "right": null,
            "top": null,
            "visibility": null,
            "width": null
          }
        },
        "f000b44745664155bbef36d07cf8605f": {
          "model_module": "@jupyter-widgets/base",
          "model_module_version": "1.2.0",
          "model_name": "LayoutModel",
          "state": {
            "_model_module": "@jupyter-widgets/base",
            "_model_module_version": "1.2.0",
            "_model_name": "LayoutModel",
            "_view_count": null,
            "_view_module": "@jupyter-widgets/base",
            "_view_module_version": "1.2.0",
            "_view_name": "LayoutView",
            "align_content": null,
            "align_items": null,
            "align_self": null,
            "border": null,
            "bottom": null,
            "display": null,
            "flex": null,
            "flex_flow": null,
            "grid_area": null,
            "grid_auto_columns": null,
            "grid_auto_flow": null,
            "grid_auto_rows": null,
            "grid_column": null,
            "grid_gap": null,
            "grid_row": null,
            "grid_template_areas": null,
            "grid_template_columns": null,
            "grid_template_rows": null,
            "height": null,
            "justify_content": null,
            "justify_items": null,
            "left": null,
            "margin": null,
            "max_height": null,
            "max_width": null,
            "min_height": null,
            "min_width": null,
            "object_fit": null,
            "object_position": null,
            "order": null,
            "overflow": null,
            "overflow_x": null,
            "overflow_y": null,
            "padding": null,
            "right": null,
            "top": null,
            "visibility": null,
            "width": null
          }
        },
        "fbc8eaa9fd0e4911a5bfd6267d44d5df": {
          "model_module": "@jupyter-widgets/controls",
          "model_module_version": "1.5.0",
          "model_name": "DescriptionStyleModel",
          "state": {
            "_model_module": "@jupyter-widgets/controls",
            "_model_module_version": "1.5.0",
            "_model_name": "DescriptionStyleModel",
            "_view_count": null,
            "_view_module": "@jupyter-widgets/base",
            "_view_module_version": "1.2.0",
            "_view_name": "StyleView",
            "description_width": ""
          }
        }
      }
    }
  },
  "nbformat": 4,
  "nbformat_minor": 5
}
